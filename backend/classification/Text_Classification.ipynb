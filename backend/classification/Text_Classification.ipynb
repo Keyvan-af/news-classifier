{
 "cells": [
  {
   "cell_type": "markdown",
   "metadata": {
    "id": "iJtMjblupVUw"
   },
   "source": [
    "# Environment set-up"
   ]
  },
  {
   "cell_type": "code",
   "execution_count": 1,
   "metadata": {
    "colab": {
     "base_uri": "https://localhost:8080/",
     "height": 1000
    },
    "executionInfo": {
     "elapsed": 56790,
     "status": "ok",
     "timestamp": 1748754489975,
     "user": {
      "displayName": "Kayvan Afzalnia",
      "userId": "12756300678119011802"
     },
     "user_tz": -210
    },
    "id": "ngiUoplL6x0V",
    "outputId": "f89d7ae2-a7bc-4269-f295-e4fdc8970e68"
   },
   "outputs": [
    {
     "name": "stdout",
     "output_type": "stream",
     "text": [
      "Collecting hazm\n",
      "  Downloading hazm-0.10.0-py3-none-any.whl.metadata (11 kB)\n",
      "Collecting fasttext-wheel<0.10.0,>=0.9.2 (from hazm)\n",
      "  Downloading fasttext_wheel-0.9.2-cp311-cp311-manylinux_2_17_x86_64.manylinux2014_x86_64.whl.metadata (16 kB)\n",
      "Collecting flashtext<3.0,>=2.7 (from hazm)\n",
      "  Downloading flashtext-2.7.tar.gz (14 kB)\n",
      "  Preparing metadata (setup.py) ... \u001b[?25l\u001b[?25hdone\n",
      "Collecting gensim<5.0.0,>=4.3.1 (from hazm)\n",
      "  Downloading gensim-4.3.3-cp311-cp311-manylinux_2_17_x86_64.manylinux2014_x86_64.whl.metadata (8.1 kB)\n",
      "Requirement already satisfied: nltk<4.0.0,>=3.8.1 in /usr/local/lib/python3.11/dist-packages (from hazm) (3.9.1)\n",
      "Collecting numpy==1.24.3 (from hazm)\n",
      "  Downloading numpy-1.24.3-cp311-cp311-manylinux_2_17_x86_64.manylinux2014_x86_64.whl.metadata (5.6 kB)\n",
      "Collecting python-crfsuite<0.10.0,>=0.9.9 (from hazm)\n",
      "  Downloading python_crfsuite-0.9.11-cp311-cp311-manylinux_2_17_x86_64.manylinux2014_x86_64.whl.metadata (4.3 kB)\n",
      "Requirement already satisfied: scikit-learn<2.0.0,>=1.2.2 in /usr/local/lib/python3.11/dist-packages (from hazm) (1.6.1)\n",
      "Collecting pybind11>=2.2 (from fasttext-wheel<0.10.0,>=0.9.2->hazm)\n",
      "  Downloading pybind11-2.13.6-py3-none-any.whl.metadata (9.5 kB)\n",
      "Requirement already satisfied: setuptools>=0.7.0 in /usr/local/lib/python3.11/dist-packages (from fasttext-wheel<0.10.0,>=0.9.2->hazm) (75.2.0)\n",
      "Collecting scipy<1.14.0,>=1.7.0 (from gensim<5.0.0,>=4.3.1->hazm)\n",
      "  Downloading scipy-1.13.1-cp311-cp311-manylinux_2_17_x86_64.manylinux2014_x86_64.whl.metadata (60 kB)\n",
      "\u001b[2K     \u001b[90m━━━━━━━━━━━━━━━━━━━━━━━━━━━━━━━━━━━━━━━━\u001b[0m \u001b[32m60.6/60.6 kB\u001b[0m \u001b[31m1.2 MB/s\u001b[0m eta \u001b[36m0:00:00\u001b[0m\n",
      "\u001b[?25hRequirement already satisfied: smart-open>=1.8.1 in /usr/local/lib/python3.11/dist-packages (from gensim<5.0.0,>=4.3.1->hazm) (7.1.0)\n",
      "Requirement already satisfied: click in /usr/local/lib/python3.11/dist-packages (from nltk<4.0.0,>=3.8.1->hazm) (8.2.1)\n",
      "Requirement already satisfied: joblib in /usr/local/lib/python3.11/dist-packages (from nltk<4.0.0,>=3.8.1->hazm) (1.5.0)\n",
      "Requirement already satisfied: regex>=2021.8.3 in /usr/local/lib/python3.11/dist-packages (from nltk<4.0.0,>=3.8.1->hazm) (2024.11.6)\n",
      "Requirement already satisfied: tqdm in /usr/local/lib/python3.11/dist-packages (from nltk<4.0.0,>=3.8.1->hazm) (4.67.1)\n",
      "Requirement already satisfied: threadpoolctl>=3.1.0 in /usr/local/lib/python3.11/dist-packages (from scikit-learn<2.0.0,>=1.2.2->hazm) (3.6.0)\n",
      "Requirement already satisfied: wrapt in /usr/local/lib/python3.11/dist-packages (from smart-open>=1.8.1->gensim<5.0.0,>=4.3.1->hazm) (1.17.2)\n",
      "Downloading hazm-0.10.0-py3-none-any.whl (892 kB)\n",
      "\u001b[2K   \u001b[90m━━━━━━━━━━━━━━━━━━━━━━━━━━━━━━━━━━━━━━━━\u001b[0m \u001b[32m892.6/892.6 kB\u001b[0m \u001b[31m12.6 MB/s\u001b[0m eta \u001b[36m0:00:00\u001b[0m\n",
      "\u001b[?25hDownloading numpy-1.24.3-cp311-cp311-manylinux_2_17_x86_64.manylinux2014_x86_64.whl (17.3 MB)\n",
      "\u001b[2K   \u001b[90m━━━━━━━━━━━━━━━━━━━━━━━━━━━━━━━━━━━━━━━━\u001b[0m \u001b[32m17.3/17.3 MB\u001b[0m \u001b[31m26.0 MB/s\u001b[0m eta \u001b[36m0:00:00\u001b[0m\n",
      "\u001b[?25hDownloading fasttext_wheel-0.9.2-cp311-cp311-manylinux_2_17_x86_64.manylinux2014_x86_64.whl (4.4 MB)\n",
      "\u001b[2K   \u001b[90m━━━━━━━━━━━━━━━━━━━━━━━━━━━━━━━━━━━━━━━━\u001b[0m \u001b[32m4.4/4.4 MB\u001b[0m \u001b[31m18.9 MB/s\u001b[0m eta \u001b[36m0:00:00\u001b[0m\n",
      "\u001b[?25hDownloading gensim-4.3.3-cp311-cp311-manylinux_2_17_x86_64.manylinux2014_x86_64.whl (26.7 MB)\n",
      "\u001b[2K   \u001b[90m━━━━━━━━━━━━━━━━━━━━━━━━━━━━━━━━━━━━━━━━\u001b[0m \u001b[32m26.7/26.7 MB\u001b[0m \u001b[31m29.5 MB/s\u001b[0m eta \u001b[36m0:00:00\u001b[0m\n",
      "\u001b[?25hDownloading python_crfsuite-0.9.11-cp311-cp311-manylinux_2_17_x86_64.manylinux2014_x86_64.whl (1.3 MB)\n",
      "\u001b[2K   \u001b[90m━━━━━━━━━━━━━━━━━━━━━━━━━━━━━━━━━━━━━━━━\u001b[0m \u001b[32m1.3/1.3 MB\u001b[0m \u001b[31m22.0 MB/s\u001b[0m eta \u001b[36m0:00:00\u001b[0m\n",
      "\u001b[?25hDownloading pybind11-2.13.6-py3-none-any.whl (243 kB)\n",
      "\u001b[2K   \u001b[90m━━━━━━━━━━━━━━━━━━━━━━━━━━━━━━━━━━━━━━━━\u001b[0m \u001b[32m243.3/243.3 kB\u001b[0m \u001b[31m9.9 MB/s\u001b[0m eta \u001b[36m0:00:00\u001b[0m\n",
      "\u001b[?25hDownloading scipy-1.13.1-cp311-cp311-manylinux_2_17_x86_64.manylinux2014_x86_64.whl (38.6 MB)\n",
      "\u001b[2K   \u001b[90m━━━━━━━━━━━━━━━━━━━━━━━━━━━━━━━━━━━━━━━━\u001b[0m \u001b[32m38.6/38.6 MB\u001b[0m \u001b[31m8.2 MB/s\u001b[0m eta \u001b[36m0:00:00\u001b[0m\n",
      "\u001b[?25hBuilding wheels for collected packages: flashtext\n",
      "  Building wheel for flashtext (setup.py) ... \u001b[?25l\u001b[?25hdone\n",
      "  Created wheel for flashtext: filename=flashtext-2.7-py2.py3-none-any.whl size=9300 sha256=c26af446d1debbd96c0adc715929bf8fd40539cf62ffd8b32ced53e05b2d8fd2\n",
      "  Stored in directory: /root/.cache/pip/wheels/49/20/47/f03dfa8a7239c54cbc44ff7389eefbf888d2c1873edaaec888\n",
      "Successfully built flashtext\n",
      "Installing collected packages: flashtext, python-crfsuite, pybind11, numpy, scipy, fasttext-wheel, gensim, hazm\n",
      "  Attempting uninstall: numpy\n",
      "    Found existing installation: numpy 2.0.2\n",
      "    Uninstalling numpy-2.0.2:\n",
      "      Successfully uninstalled numpy-2.0.2\n",
      "  Attempting uninstall: scipy\n",
      "    Found existing installation: scipy 1.15.3\n",
      "    Uninstalling scipy-1.15.3:\n",
      "      Successfully uninstalled scipy-1.15.3\n",
      "\u001b[31mERROR: pip's dependency resolver does not currently take into account all the packages that are installed. This behaviour is the source of the following dependency conflicts.\n",
      "jaxlib 0.5.1 requires numpy>=1.25, but you have numpy 1.24.3 which is incompatible.\n",
      "pymc 5.22.0 requires numpy>=1.25.0, but you have numpy 1.24.3 which is incompatible.\n",
      "blosc2 3.3.3 requires numpy>=1.26, but you have numpy 1.24.3 which is incompatible.\n",
      "jax 0.5.2 requires numpy>=1.25, but you have numpy 1.24.3 which is incompatible.\n",
      "albucore 0.0.24 requires numpy>=1.24.4, but you have numpy 1.24.3 which is incompatible.\n",
      "tensorflow 2.18.0 requires numpy<2.1.0,>=1.26.0, but you have numpy 1.24.3 which is incompatible.\n",
      "tsfresh 0.21.0 requires scipy>=1.14.0; python_version >= \"3.10\", but you have scipy 1.13.1 which is incompatible.\n",
      "thinc 8.3.6 requires numpy<3.0.0,>=2.0.0, but you have numpy 1.24.3 which is incompatible.\n",
      "albumentations 2.0.7 requires numpy>=1.24.4, but you have numpy 1.24.3 which is incompatible.\n",
      "treescope 0.1.9 requires numpy>=1.25.2, but you have numpy 1.24.3 which is incompatible.\u001b[0m\u001b[31m\n",
      "\u001b[0mSuccessfully installed fasttext-wheel-0.9.2 flashtext-2.7 gensim-4.3.3 hazm-0.10.0 numpy-1.24.3 pybind11-2.13.6 python-crfsuite-0.9.11 scipy-1.13.1\n"
     ]
    },
    {
     "data": {
      "application/vnd.colab-display-data+json": {
       "id": "7150b22f1a4c41e79f2c098f93ed7956",
       "pip_warning": {
        "packages": [
         "numpy"
        ]
       }
      }
     },
     "metadata": {},
     "output_type": "display_data"
    },
    {
     "name": "stdout",
     "output_type": "stream",
     "text": [
      "\u001b[31mERROR: Operation cancelled by user\u001b[0m\u001b[31m\n",
      "\u001b[0m^C\n",
      "^C\n",
      "^C\n"
     ]
    }
   ],
   "source": [
    "# %%capture\n",
    "!pip install hazm\n",
    "!pip install transformers\n",
    "!pip install tensorflow\n",
    "!pip install xgboost"
   ]
  },
  {
   "cell_type": "code",
   "execution_count": 1,
   "metadata": {
    "colab": {
     "base_uri": "https://localhost:8080/"
    },
    "executionInfo": {
     "elapsed": 24738,
     "status": "ok",
     "timestamp": 1748754567207,
     "user": {
      "displayName": "Kayvan Afzalnia",
      "userId": "12756300678119011802"
     },
     "user_tz": -210
    },
    "id": "dlNAp5ADvuDQ",
    "outputId": "8ab8ab9d-3b9e-4a26-d539-2233314edb09"
   },
   "outputs": [
    {
     "name": "stdout",
     "output_type": "stream",
     "text": [
      "Requirement already satisfied: numpy==1.24.3 in /usr/local/lib/python3.11/dist-packages (1.24.3)\n",
      "Collecting gensim\n",
      "  Using cached gensim-4.3.3-cp311-cp311-manylinux_2_17_x86_64.manylinux2014_x86_64.whl.metadata (8.1 kB)\n",
      "Collecting numpy<2.0,>=1.18.5 (from gensim)\n",
      "  Downloading numpy-1.26.4-cp311-cp311-manylinux_2_17_x86_64.manylinux2014_x86_64.whl.metadata (61 kB)\n",
      "\u001b[2K     \u001b[90m━━━━━━━━━━━━━━━━━━━━━━━━━━━━━━━━━━━━━━━━\u001b[0m \u001b[32m61.0/61.0 kB\u001b[0m \u001b[31m2.8 MB/s\u001b[0m eta \u001b[36m0:00:00\u001b[0m\n",
      "\u001b[?25hCollecting scipy<1.14.0,>=1.7.0 (from gensim)\n",
      "  Using cached scipy-1.13.1-cp311-cp311-manylinux_2_17_x86_64.manylinux2014_x86_64.whl.metadata (60 kB)\n",
      "Collecting smart-open>=1.8.1 (from gensim)\n",
      "  Downloading smart_open-7.1.0-py3-none-any.whl.metadata (24 kB)\n",
      "Collecting wrapt (from smart-open>=1.8.1->gensim)\n",
      "  Downloading wrapt-1.17.2-cp311-cp311-manylinux_2_5_x86_64.manylinux1_x86_64.manylinux_2_17_x86_64.manylinux2014_x86_64.whl.metadata (6.4 kB)\n",
      "Using cached gensim-4.3.3-cp311-cp311-manylinux_2_17_x86_64.manylinux2014_x86_64.whl (26.7 MB)\n",
      "Downloading numpy-1.26.4-cp311-cp311-manylinux_2_17_x86_64.manylinux2014_x86_64.whl (18.3 MB)\n",
      "\u001b[2K   \u001b[90m━━━━━━━━━━━━━━━━━━━━━━━━━━━━━━━━━━━━━━━━\u001b[0m \u001b[32m18.3/18.3 MB\u001b[0m \u001b[31m81.4 MB/s\u001b[0m eta \u001b[36m0:00:00\u001b[0m\n",
      "\u001b[?25hUsing cached scipy-1.13.1-cp311-cp311-manylinux_2_17_x86_64.manylinux2014_x86_64.whl (38.6 MB)\n",
      "Downloading smart_open-7.1.0-py3-none-any.whl (61 kB)\n",
      "\u001b[2K   \u001b[90m━━━━━━━━━━━━━━━━━━━━━━━━━━━━━━━━━━━━━━━━\u001b[0m \u001b[32m61.7/61.7 kB\u001b[0m \u001b[31m4.6 MB/s\u001b[0m eta \u001b[36m0:00:00\u001b[0m\n",
      "\u001b[?25hDownloading wrapt-1.17.2-cp311-cp311-manylinux_2_5_x86_64.manylinux1_x86_64.manylinux_2_17_x86_64.manylinux2014_x86_64.whl (83 kB)\n",
      "\u001b[2K   \u001b[90m━━━━━━━━━━━━━━━━━━━━━━━━━━━━━━━━━━━━━━━━\u001b[0m \u001b[32m83.2/83.2 kB\u001b[0m \u001b[31m6.3 MB/s\u001b[0m eta \u001b[36m0:00:00\u001b[0m\n",
      "\u001b[?25hInstalling collected packages: wrapt, numpy, smart-open, scipy, gensim\n",
      "  Attempting uninstall: wrapt\n",
      "    Found existing installation: wrapt 1.17.2\n",
      "    Uninstalling wrapt-1.17.2:\n",
      "      Successfully uninstalled wrapt-1.17.2\n",
      "  Attempting uninstall: numpy\n",
      "    Found existing installation: numpy 1.24.3\n",
      "    Uninstalling numpy-1.24.3:\n",
      "      Successfully uninstalled numpy-1.24.3\n",
      "  Attempting uninstall: smart-open\n",
      "    Found existing installation: smart-open 7.1.0\n",
      "    Uninstalling smart-open-7.1.0:\n",
      "      Successfully uninstalled smart-open-7.1.0\n",
      "  Attempting uninstall: scipy\n",
      "    Found existing installation: scipy 1.13.1\n",
      "    Uninstalling scipy-1.13.1:\n",
      "      Successfully uninstalled scipy-1.13.1\n",
      "  Attempting uninstall: gensim\n",
      "    Found existing installation: gensim 4.3.3\n",
      "    Uninstalling gensim-4.3.3:\n",
      "      Successfully uninstalled gensim-4.3.3\n",
      "\u001b[31mERROR: pip's dependency resolver does not currently take into account all the packages that are installed. This behaviour is the source of the following dependency conflicts.\n",
      "hazm 0.10.0 requires numpy==1.24.3, but you have numpy 1.26.4 which is incompatible.\n",
      "tsfresh 0.21.0 requires scipy>=1.14.0; python_version >= \"3.10\", but you have scipy 1.13.1 which is incompatible.\n",
      "thinc 8.3.6 requires numpy<3.0.0,>=2.0.0, but you have numpy 1.26.4 which is incompatible.\u001b[0m\u001b[31m\n",
      "\u001b[0mSuccessfully installed gensim-4.3.3 numpy-1.26.4 scipy-1.13.1 smart-open-7.1.0 wrapt-1.17.2\n"
     ]
    }
   ],
   "source": [
    "!pip install numpy==1.24.3\n",
    "!pip install --force-reinstall gensim"
   ]
  },
  {
   "cell_type": "code",
   "execution_count": 2,
   "metadata": {
    "colab": {
     "base_uri": "https://localhost:8080/"
    },
    "executionInfo": {
     "elapsed": 29465,
     "status": "ok",
     "timestamp": 1748754596689,
     "user": {
      "displayName": "Kayvan Afzalnia",
      "userId": "12756300678119011802"
     },
     "user_tz": -210
    },
    "id": "iuPR5rGbWwCV",
    "outputId": "0028d961-641c-4fa4-8479-bce0268898c7"
   },
   "outputs": [
    {
     "name": "stdout",
     "output_type": "stream",
     "text": [
      "Mounted at /content/drive\n",
      "/content/drive/MyDrive/Tasnim_Classification\n",
      "mkdir: cannot create directory ‘Plots’: File exists\n"
     ]
    }
   ],
   "source": [
    "from google.colab import drive\n",
    "drive.mount('/content/drive')\n",
    "%cd '/content/drive/MyDrive/Tasnim_Classification/'\n",
    "!mkdir Plots"
   ]
  },
  {
   "cell_type": "code",
   "execution_count": null,
   "metadata": {
    "executionInfo": {
     "elapsed": 25938,
     "status": "ok",
     "timestamp": 1748754622640,
     "user": {
      "displayName": "Kayvan Afzalnia",
      "userId": "12756300678119011802"
     },
     "user_tz": -210
    },
    "id": "3WxlKKS2XFqK"
   },
   "outputs": [],
   "source": [
    "%%capture\n",
    "## general python packages\n",
    "import re\n",
    "import pandas as pd\n",
    "import os\n",
    "import glob\n",
    "from pandas.core.indexers.utils import length_of_indexer\n",
    "from os import path\n",
    "import ntpath\n",
    "import numpy as np\n",
    "import transformers\n",
    "from sklearn.metrics import accuracy_score\n",
    "from sklearn.metrics import confusion_matrix, accuracy_score\n",
    "from sklearn.feature_extraction.text import CountVectorizer\n",
    "from sklearn.linear_model import LogisticRegression\n",
    "from sklearn import linear_model\n",
    "from sklearn.metrics import classification_report\n",
    "from sklearn.metrics import ConfusionMatrixDisplay\n",
    "import joblib\n",
    "from sklearn.ensemble import RandomForestClassifier\n",
    "import xgboost as xgb\n",
    "from xgboost import XGBClassifier\n",
    "import seaborn as sns\n",
    "## NLP packages\n",
    "import matplotlib.pyplot as plt\n",
    "from string import punctuation\n",
    "import gensim\n",
    "from gensim.utils import simple_preprocess\n",
    "import nltk\n",
    "import hazm\n",
    "from hazm import *\n",
    "from hazm import stopwords_list\n",
    "from hazm import word_tokenize\n",
    "from collections import Counter"
   ]
  },
  {
   "cell_type": "markdown",
   "metadata": {
    "id": "7L1xS8aNk2gt"
   },
   "source": [
    "# Prepare Data"
   ]
  },
  {
   "cell_type": "code",
   "execution_count": 4,
   "metadata": {
    "colab": {
     "base_uri": "https://localhost:8080/",
     "height": 35
    },
    "executionInfo": {
     "elapsed": 380,
     "status": "ok",
     "timestamp": 1748754622734,
     "user": {
      "displayName": "Kayvan Afzalnia",
      "userId": "12756300678119011802"
     },
     "user_tz": -210
    },
    "id": "uc_gc7D3k2De",
    "outputId": "1283b99d-635b-427e-8785-6367152465f0"
   },
   "outputs": [
    {
     "data": {
      "application/vnd.google.colaboratory.intrinsic+json": {
       "type": "string"
      },
      "text/plain": [
       "'/content/drive/MyDrive/Tasnim_Classification'"
      ]
     },
     "execution_count": 4,
     "metadata": {},
     "output_type": "execute_result"
    }
   ],
   "source": [
    "pwd"
   ]
  },
  {
   "cell_type": "code",
   "execution_count": 5,
   "metadata": {
    "executionInfo": {
     "elapsed": 371,
     "status": "ok",
     "timestamp": 1748754622735,
     "user": {
      "displayName": "Kayvan Afzalnia",
      "userId": "12756300678119011802"
     },
     "user_tz": -210
    },
    "id": "_PhJDJJylrKn"
   },
   "outputs": [],
   "source": [
    "extract_dir = \"/content/drive/MyDrive/Tasnim_Classification/Data\"\n",
    "base_dir = extract_dir\n",
    "categories = ['Political', 'Sport']\n",
    "final_dataframes = {}"
   ]
  },
  {
   "cell_type": "code",
   "execution_count": 6,
   "metadata": {
    "executionInfo": {
     "elapsed": 120921,
     "status": "ok",
     "timestamp": 1748754743295,
     "user": {
      "displayName": "Kayvan Afzalnia",
      "userId": "12756300678119011802"
     },
     "user_tz": -210
    },
    "id": "z_EZ8HZzlzHx"
   },
   "outputs": [],
   "source": [
    "for category in categories:\n",
    "    category_path = os.path.join(base_dir, category)\n",
    "    all_dfs = []\n",
    "\n",
    "    for folder_num in range(2, 14):  # from 2 to 13\n",
    "        folder_path = os.path.join(category_path, str(folder_num))\n",
    "        csv_files = glob.glob(os.path.join(folder_path, 'CSVs', '*.csv'))\n",
    "        txt_files = sorted(glob.glob(os.path.join(folder_path, 'TXTs', '*.txt')))\n",
    "\n",
    "        if not csv_files:\n",
    "            continue\n",
    "\n",
    "        # Load CSV\n",
    "        df = pd.read_csv(csv_files[0])\n",
    "\n",
    "        # Load and attach descriptions\n",
    "        descriptions = []\n",
    "        for i in range(20):\n",
    "            try:\n",
    "                with open(txt_files[i], 'r', encoding='utf-8') as f:\n",
    "                    descriptions.append(f.read())\n",
    "            except IndexError:\n",
    "                descriptions.append('')  # Handle missing txts\n",
    "        df['description'] = descriptions\n",
    "\n",
    "        all_dfs.append(df)\n",
    "\n",
    "    # Concatenate all for this category\n",
    "    final_df = pd.concat(all_dfs, ignore_index=True)\n",
    "    final_dataframes[category] = final_df\n",
    "\n",
    "    # Save final CSV\n",
    "    final_df.to_csv(f'{base_dir}/{category}_news.csv', index=False, encoding='utf-8')"
   ]
  },
  {
   "cell_type": "code",
   "execution_count": 7,
   "metadata": {
    "executionInfo": {
     "elapsed": 721,
     "status": "ok",
     "timestamp": 1748754744172,
     "user": {
      "displayName": "Kayvan Afzalnia",
      "userId": "12756300678119011802"
     },
     "user_tz": -210
    },
    "id": "27HDV63Yrusl"
   },
   "outputs": [],
   "source": [
    "# Load the datasets\n",
    "sport_df = pd.read_csv(f'{base_dir}/Sport_news.csv', encoding='utf-8')\n",
    "political_df = pd.read_csv(f'{base_dir}/Political_news.csv', encoding='utf-8')\n",
    "\n",
    "# Concatenate 'Title', 'Summary', and 'description' for sport news\n",
    "# .fillna('') is used to handle any missing values and prevent errors\n",
    "sport_df['Combined_Text'] = sport_df['Title'].fillna('') + ' ' + \\\n",
    "                            sport_df['Summary'].fillna('') + ' ' + \\\n",
    "                            sport_df['description'].fillna('')\n",
    "\n",
    "# Concatenate 'Title', 'Summary', and 'description' for political news\n",
    "political_df['Combined_Text'] = political_df['Title'].fillna('') + ' ' + \\\n",
    "                                political_df['Summary'].fillna('') + ' ' + \\\n",
    "                                political_df['description'].fillna('')\n",
    "\n",
    "# Create a new DataFrame to store the combined news\n",
    "all_news_df = pd.DataFrame()\n",
    "\n",
    "# Determine the maximum length between the two dataframes to ensure all data is included\n",
    "max_len = max(len(sport_df), len(political_df))\n",
    "\n",
    "# Populate the 'Sport_News' column with combined text from sport news\n",
    "# .reindex(range(max_len)) is used to align the series lengths,\n",
    "# filling with NaN if one dataframe is shorter than the other\n",
    "all_news_df['Sport_News'] = pd.Series(sport_df['Combined_Text']).reindex(range(max_len))\n",
    "\n",
    "# Populate the 'Political_News' column with combined text from political news\n",
    "all_news_df['Political_News'] = pd.Series(political_df['Combined_Text']).reindex(range(max_len))\n",
    "\n",
    "# Save the new DataFrame to a CSV file named 'all_news.csv'\n",
    "# index=False prevents pandas from writing the DataFrame index as a column in the CSV\n",
    "all_news_df.to_csv(f'{base_dir}/all_news.csv', index=False, encoding='utf-8')\n"
   ]
  },
  {
   "cell_type": "markdown",
   "metadata": {
    "id": "yYYZiLLVprvq"
   },
   "source": [
    "# Loading Data and get a brief overview of columns"
   ]
  },
  {
   "cell_type": "code",
   "execution_count": 8,
   "metadata": {
    "colab": {
     "base_uri": "https://localhost:8080/"
    },
    "executionInfo": {
     "elapsed": 450,
     "status": "ok",
     "timestamp": 1748754749409,
     "user": {
      "displayName": "Kayvan Afzalnia",
      "userId": "12756300678119011802"
     },
     "user_tz": -210
    },
    "id": "QKyv3gv9XKDp",
    "outputId": "4fe01f4f-0452-4592-cd31-7355f6ef54b0"
   },
   "outputs": [
    {
     "name": "stdout",
     "output_type": "stream",
     "text": [
      "Shape of my data: (240, 2)\n",
      "\n",
      "The number of null values for my data: \n",
      "Sport_News        0\n",
      "Political_News    0\n",
      "dtype: int64\n",
      "\n",
      "Shape of my data after droping nulls: (240, 2)\n",
      "\n",
      "Number of duplicate text in `Sport_News` column of data: 0\n",
      "\n",
      "Number of duplicate text in `Political_News` column of data: 0\n",
      "\n",
      "shape of data after dropping duplicate rows: (240, 2)\n",
      "\n",
      "colum's type of data : \n",
      "Sport_News        object\n",
      "Political_News    object\n",
      "dtype: object\n",
      "\n"
     ]
    }
   ],
   "source": [
    "df = pd.read_csv(f'{base_dir}/all_news.csv', encoding='utf-8')\n",
    "print(f\"Shape of my data: {df.shape}\\n\")\n",
    "print(f\"The number of null values for my data: \\n{df.isnull().sum()}\\n\")\n",
    "df=df.dropna()\n",
    "print(f\"Shape of my data after droping nulls: {df.shape}\\n\")\n",
    "print(f\"Number of duplicate text in `Sport_News` column of data: {df.shape[0] - df.drop_duplicates(subset=['Sport_News']).shape[0]}\\n\")\n",
    "print(f\"Number of duplicate text in `Political_News` column of data: {df.shape[0] - df.drop_duplicates(subset=['Political_News']).shape[0]}\\n\")\n",
    "df.drop_duplicates(subset=[\"Sport_News\"], inplace=True)\n",
    "df.drop_duplicates(subset=[\"Political_News\"], inplace=True)\n",
    "df.reset_index(drop=True, inplace=True)\n",
    "print(f\"shape of data after dropping duplicate rows: {df.shape}\\n\")\n",
    "print(f\"colum's type of data : \\n{df.dtypes}\\n\")"
   ]
  },
  {
   "cell_type": "code",
   "execution_count": 9,
   "metadata": {
    "colab": {
     "base_uri": "https://localhost:8080/",
     "height": 206
    },
    "executionInfo": {
     "elapsed": 315,
     "status": "ok",
     "timestamp": 1748754752413,
     "user": {
      "displayName": "Kayvan Afzalnia",
      "userId": "12756300678119011802"
     },
     "user_tz": -210
    },
    "id": "IdDnGo9uHzPZ",
    "outputId": "7312570a-291b-4877-b237-d9b764564c4e"
   },
   "outputs": [
    {
     "data": {
      "application/vnd.google.colaboratory.intrinsic+json": {
       "summary": "{\n  \"name\": \"df\",\n  \"rows\": 240,\n  \"fields\": [\n    {\n      \"column\": \"Sport_News\",\n      \"properties\": {\n        \"dtype\": \"string\",\n        \"num_unique_values\": 240,\n        \"samples\": [\n          \"\\u062d\\u0645\\u0627\\u06cc\\u062a \\u0641\\u062f\\u0631\\u0627\\u0633\\u06cc\\u0648\\u0646 \\u0627\\u0632 \\u0642\\u0644\\u0639\\u0647\\u200c\\u0646\\u0648\\u06cc\\u06cc \\u0648 \\u0627\\u062f\\u0639\\u0627\\u06cc \\u0627\\u0645\\u0627\\u0631\\u0627\\u062a\\u06cc\\u200c\\u0647\\u0627 \\u062f\\u0631\\u0628\\u0627\\u0631\\u0647 \\u0645\\u062c\\u06cc\\u062f\\u06cc \\u06cc\\u06a9 \\u0631\\u0633\\u0627\\u0646\\u0647 \\u0627\\u0645\\u0627\\u0631\\u0627\\u062a\\u06cc \\u0645\\u062f\\u0639\\u06cc \\u0634\\u062f\\u0647 \\u0627\\u0633\\u062a \\u06a9\\u0647 \\u0641\\u062f\\u0631\\u0627\\u0633\\u06cc\\u0648\\u0646 \\u0641\\u0648\\u062a\\u0628\\u0627\\u0644 \\u0627\\u06cc\\u0631\\u0627\\u0646 \\u0641\\u0631\\u0647\\u0627\\u062f \\u0645\\u062c\\u06cc\\u062f\\u06cc \\u0631\\u0627 \\u06af\\u0632\\u06cc\\u0646\\u0647\\u200c \\u062c\\u0627\\u0646\\u0634\\u06cc\\u0646\\u06cc \\u0627\\u0645\\u06cc\\u0631 \\u0642\\u0644\\u0639\\u0647\\u200c\\u0646\\u0648\\u06cc\\u06cc \\u0645\\u06cc\\u200c\\u062f\\u0627\\u0646\\u062f. \\ufeff\",\n          \"\\u0622\\u06cc\\u062a \\u0634\\u0631\\u06cc\\u0641\\u06cc \\u0642\\u0647\\u0631\\u0645\\u0627\\u0646 \\u0645\\u0633\\u0627\\u0628\\u0642\\u0627\\u062a \\u0648\\u0632\\u0646\\u0647\\u200c\\u0628\\u0631\\u062f\\u0627\\u0631\\u06cc \\u0622\\u0633\\u06cc\\u0627 \\u0634\\u062f \\u0631\\u0642\\u0627\\u0628\\u062a\\u200c\\u0647\\u0627\\u06cc \\u0648\\u0632\\u0646\\u0647\\u200c\\u0628\\u0631\\u062f\\u0627\\u0631\\u06cc \\u0642\\u0647\\u0631\\u0645\\u0627\\u0646\\u06cc \\u0622\\u0633\\u06cc\\u0627 \\u0628\\u0627 \\u062f\\u0633\\u062a\\u06cc\\u0627\\u0628\\u06cc \\u0645\\u0644\\u06cc\\u200c\\u067e\\u0648\\u0634 \\u062f\\u0633\\u062a\\u0647 \\u0641\\u0648\\u0642 \\u0633\\u0646\\u06af\\u06cc\\u0646 \\u06a9\\u0634\\u0648\\u0631\\u0645\\u0627\\u0646 \\u0628\\u0647 \\u0645\\u062f\\u0627\\u0644 \\u0637\\u0644\\u0627\\u06cc \\u062f\\u0648\\u0636\\u0631\\u0628 \\u0648 \\u0645\\u062c\\u0645\\u0648\\u0639 \\u0627\\u06cc\\u0646 \\u062f\\u0633\\u062a\\u0647 \\u067e\\u06cc\\u06af\\u06cc\\u0631\\u06cc \\u0634\\u062f. \\ufeff\\u0628\\u0647 \\u06af\\u0632\\u0627\\u0631\\u0634 \\u062e\\u0628\\u0631\\u06af\\u0632\\u0627\\u0631\\u06cc \\u062a\\u0633\\u0646\\u06cc\\u0645\\u060c \\u0633\\u062a\\u0627\\u0631\\u0647 \\u06af\\u0644\\u062f\\u0646 \\u0627\\u0633\\u062a\\u06cc\\u062a \\u0648\\u0631\\u06cc\\u0631\\u0632\\u060c \\u062f\\u0631\\u06cc\\u0645\\u0648\\u0646\\u062f \\u06af\\u0631\\u06cc\\u0646 \\u0628\\u0647 \\u062f\\u0644\\u06cc\\u0644 \\u0627\\u0638\\u0647\\u0627\\u0631\\u0646\\u0638\\u0631\\u06cc \\u06a9\\u0647 \\u0628\\u0647 \\u0635\\u062f\\u0627\\u0642\\u062a \\u062f\\u0627\\u0648\\u0631\\u0627\\u0646 \\u0645\\u0633\\u0627\\u0628\\u0642\\u0647 \\u0627\\u0634\\u0627\\u0631\\u0647 \\u062f\\u0627\\u0634\\u062a\\u060c \\u0627\\u0632 \\u0633\\u0648\\u06cc \\u0644\\u06cc\\u06af NBA \\u0645\\u0628\\u0644\\u063a 50 \\u0647\\u0632\\u0627\\u0631 \\u062f\\u0644\\u0627\\u0631 \\u062c\\u0631\\u06cc\\u0645\\u0647 \\u0634\\u062f. \\u0627\\u06cc\\u0646 \\u0627\\u0638\\u0647\\u0627\\u0631\\u0627\\u062a \\u062c\\u0646\\u062c\\u0627\\u0644\\u06cc \\u062f\\u0631 \\u062c\\u0631\\u06cc\\u0627\\u0646 \\u0628\\u0627\\u0632\\u06cc \\u0633\\u0648\\u0645 \\u0633\\u0631\\u06cc \\u0646\\u06cc\\u0645\\u0647 \\u0646\\u0647\\u0627\\u06cc\\u06cc \\u06a9\\u0646\\u0641\\u0631\\u0627\\u0646\\u0633 \\u063a\\u0631\\u0628\\u060c \\u0628\\u06cc\\u0646 \\u062a\\u06cc\\u0645\\u200c\\u0647\\u0627\\u06cc \\u0628\\u0633\\u06a9\\u062a\\u0628\\u0627\\u0644 \\u06af\\u0644\\u062f\\u0646 \\u0627\\u0633\\u062a\\u06cc\\u062a \\u0648 \\u0645\\u06cc\\u0646\\u0647\\u200c\\u0633\\u0648\\u062a\\u0627 \\u062a\\u06cc\\u0645\\u0628\\u0631\\u0648\\u0644\\u0648\\u0632 \\u0645\\u0637\\u0631\\u062d \\u0634\\u062f\\u060c \\u062f\\u06cc\\u062f\\u0627\\u0631\\u06cc \\u06a9\\u0647 \\u0648\\u0631\\u06cc\\u0631\\u0632 \\u0622\\u0646 \\u0631\\u0627 \\u0628\\u0627 \\u0646\\u062a\\u06cc\\u062c\\u0647 102 \\u0628\\u0631 97 \\u0648\\u0627\\u06af\\u0630\\u0627\\u0631 \\u06a9\\u0631\\u062f. \\u06af\\u0631\\u06cc\\u0646 \\u06a9\\u0647 \\u062f\\u0631 \\u0644\\u062d\\u0638\\u0627\\u062a \\u067e\\u0627\\u06cc\\u0627\\u0646\\u06cc \\u0628\\u0627\\u0632\\u06cc \\u0628\\u0647\\u200c\\u062f\\u0644\\u06cc\\u0644 \\u0634\\u0634 \\u062e\\u0637\\u0627\\u06cc\\u06cc \\u0634\\u062f\\u0646 \\u0627\\u0632 \\u0632\\u0645\\u06cc\\u0646 \\u0628\\u0627\\u0632\\u06cc \\u0627\\u062e\\u0631\\u0627\\u062c \\u0634\\u062f\\u0647 \\u0628\\u0648\\u062f\\u060c \\u062f\\u0631 \\u06a9\\u0646\\u0627\\u0631 \\u0632\\u0645\\u06cc\\u0646 \\u0628\\u0627\\u0642\\u06cc \\u0645\\u0627\\u0646\\u062f \\u062a\\u0627 \\u062a\\u06cc\\u0645\\u0634 \\u0631\\u0627 \\u062a\\u0634\\u0648\\u06cc\\u0642 \\u06a9\\u0646\\u062f. \\u062f\\u0631 \\u0647\\u0645\\u06cc\\u0646 \\u0644\\u062d\\u0638\\u0627\\u062a \\u0628\\u0648\\u062f \\u06a9\\u0647 \\u062f\\u0648\\u0631\\u0628\\u06cc\\u0646\\u200c\\u0647\\u0627 \\u0686\\u0647\\u0631\\u0647 \\u0627\\u0648 \\u0631\\u0627 \\u062f\\u0631 \\u062d\\u0627\\u0644 \\u06af\\u0641\\u062a\\u0646 \\u0639\\u0628\\u0627\\u0631\\u0627\\u062a\\u06cc \\u0645\\u0627\\u0646\\u0646\\u062f \\u00ab\\u067e\\u0646\\u062c \\u0648 \\u0646\\u06cc\\u0645\\u00bb \\u0648 \\u00ab\\u0627\\u062e\\u062a\\u0644\\u0627\\u0641 \\u0627\\u0645\\u062a\\u06cc\\u0627\\u0632\\u00bb \\u0636\\u0628\\u0637 \\u06a9\\u0631\\u062f\\u0646\\u062f. \\u06af\\u0631\\u06cc\\u0646 \\u0647\\u0645\\u200c\\u0632\\u0645\\u0627\\u0646 \\u0628\\u0627 \\u0627\\u06cc\\u0646 \\u06a9\\u0644\\u0645\\u0627\\u062a\\u060c \\u067e\\u0646\\u062c \\u0627\\u0646\\u06af\\u0634\\u062a \\u062e\\u0648\\u062f \\u0631\\u0627 \\u0646\\u0634\\u0627\\u0646 \\u062f\\u0627\\u062f. \\u067e\\u062e\\u0634 \\u0627\\u06cc\\u0646 \\u06a9\\u0644\\u06cc\\u067e \\u062f\\u0631 \\u0641\\u0636\\u0627\\u06cc \\u0645\\u062c\\u0627\\u0632\\u06cc \\u0628\\u0627 \\u0648\\u0627\\u06a9\\u0646\\u0634\\u200c\\u0647\\u0627\\u06cc \\u0632\\u06cc\\u0627\\u062f\\u06cc \\u0631\\u0648\\u0628\\u0647\\u200c\\u0631\\u0648 \\u0634\\u062f\\u060c \\u0686\\u0631\\u0627 \\u06a9\\u0647 \\u0627\\u062e\\u062a\\u0644\\u0627\\u0641 \\u0646\\u0647\\u0627\\u06cc\\u06cc \\u0627\\u0645\\u062a\\u06cc\\u0627\\u0632 \\u062f\\u0642\\u06cc\\u0642\\u0627\\u064b \\u067e\\u0646\\u062c \\u0628\\u0648\\u062f \\u0648 \\u0627\\u06cc\\u0646 \\u0645\\u0633\\u0626\\u0644\\u0647 \\u0634\\u0627\\u0626\\u0628\\u0647\\u200c\\u0647\\u0627\\u06cc\\u06cc \\u062f\\u0631\\u0628\\u0627\\u0631\\u0647 \\u0634\\u0631\\u0637\\u200c\\u0628\\u0646\\u062f\\u06cc \\u0648 \\u062f\\u0627\\u0648\\u0631\\u06cc \\u0628\\u0647 \\u0647\\u0645\\u0631\\u0627\\u0647 \\u062f\\u0627\\u0634\\u062a. \\u0627\\u0646\\u062a\\u0647\\u0627\\u06cc \\u067e\\u06cc\\u0627\\u0645/\",\n          \"\\u062c\\u0631\\u06cc\\u0645\\u0647 \\u0646\\u0642\\u062f\\u06cc \\u06a9\\u0645\\u06cc\\u062a\\u0647 \\u0627\\u0646\\u0636\\u0628\\u0627\\u0637\\u06cc \\u0628\\u0631\\u0627\\u06cc \\u0627\\u0633\\u062a\\u0642\\u0644\\u0627\\u0644 \\u0648 9 \\u0628\\u0627\\u0634\\u06af\\u0627\\u0647 \\u0644\\u06cc\\u06af \\u0628\\u0631\\u062a\\u0631\\u06cc \\u06a9\\u0645\\u06cc\\u062a\\u0647 \\u0627\\u0646\\u0636\\u0628\\u0627\\u0637\\u06cc \\u0641\\u062f\\u0631\\u0627\\u0633\\u06cc\\u0648\\u0646 \\u0641\\u0648\\u062a\\u0628\\u0627\\u0644 \\u062c\\u0631\\u0627\\u06cc\\u0645\\u06cc \\u0631\\u0627 \\u0628\\u0631\\u0627\\u06cc \\u062a\\u0639\\u062f\\u0627\\u062f\\u06cc \\u0627\\u0632 \\u062a\\u06cc\\u0645\\u200c\\u0647\\u0627\\u06cc \\u0644\\u06cc\\u06af \\u0628\\u0631\\u062a\\u0631\\u06cc \\u062f\\u0631 \\u0646\\u0638\\u0631 \\u06af\\u0631\\u0641\\u062a. \\ufeff\"\n        ],\n        \"semantic_type\": \"\",\n        \"description\": \"\"\n      }\n    },\n    {\n      \"column\": \"Political_News\",\n      \"properties\": {\n        \"dtype\": \"string\",\n        \"num_unique_values\": 240,\n        \"samples\": [\n          \"\\u0628\\u0627\\u0631\\u0627\\u0646\\u062f\\u0627\\u0632 \\u00ab\\u0628\\u0627\\u0631\\u0648\\u00bb \\u0628\\u0647 \\u062f\\u06cc\\u067e\\u0644\\u0645\\u0627\\u0633\\u06cc \\u062a\\u0647\\u062f\\u06cc\\u062f\\u0647\\u0627\\u06cc \\u0645\\u06a9\\u0631\\u0631 \\u0627\\u0631\\u0648\\u067e\\u0627\\u060c \\u0627\\u062a\\u0647\\u0627\\u0645\\u0627\\u062a \\u0645\\u0648\\u0634\\u06a9\\u06cc \\u0648 \\u0628\\u0627\\u0632\\u062f\\u0627\\u0634\\u062a \\u0627\\u062a\\u0628\\u0627\\u0639 \\u0627\\u06cc\\u0631\\u0627\\u0646\\u06cc \\u0646\\u0634\\u0627\\u0646 \\u0645\\u06cc\\u200c\\u062f\\u0647\\u062f \\u06a9\\u0647 \\u0627\\u0631\\u0648\\u067e\\u0627 \\u062a\\u0627\\u06a9\\u0646\\u0648\\u0646 \\u0628\\u0647 \\u0631\\u0648\\u06cc\\u06a9\\u0631\\u062f \\u062a\\u0642\\u0627\\u0628\\u0644\\u06cc \\u062a\\u0645\\u0627\\u06cc\\u0644 \\u0628\\u06cc\\u0634\\u062a\\u0631\\u06cc \\u062f\\u0627\\u0634\\u062a\\u0647 \\u0627\\u0633\\u062a. \\ufeff\",\n          \"\\u067e\\u0632\\u0634\\u06a9\\u06cc\\u0627\\u0646:\\u0627\\u06af\\u0631 \\u0647\\u0645\\u0647 \\u0628\\u0627 \\u0647\\u0645 \\u0628\\u0627\\u0634\\u06cc\\u0645 \\u0622\\u0645\\u0631\\u06cc\\u06a9\\u0627 \\u0646\\u0645\\u06cc\\u200c\\u062a\\u0648\\u0627\\u0646\\u062f \\u06a9\\u0627\\u0631\\u06cc \\u0627\\u0632\\u067e\\u06cc\\u0634 \\u0628\\u0628\\u0631\\u062f \\u0631\\u0626\\u06cc\\u0633\\u200c\\u062c\\u0645\\u0647\\u0648\\u0631 \\u06af\\u0641\\u062a:\\u200c \\u0627\\u06af\\u0631 \\u0647\\u0645\\u0647 \\u0628\\u0627 \\u0647\\u0645 \\u0628\\u0627\\u0634\\u06cc\\u0645\\u060c \\u0622\\u0645\\u0631\\u06cc\\u06a9\\u0627 \\u0646\\u0645\\u06cc\\u200c\\u062a\\u0648\\u0627\\u0646\\u062f \\u062f\\u0631 \\u0628\\u0631\\u0627\\u0628\\u0631 \\u0645\\u0627 \\u06a9\\u0627\\u0631\\u06cc \\u0627\\u0632 \\u067e\\u06cc\\u0634 \\u0628\\u0628\\u0631\\u062f. \\u0627\\u06af\\u0631 \\u062f\\u0633\\u062a \\u0628\\u0647 \\u062f\\u0633\\u062a \\u0647\\u0645 \\u062f\\u0647\\u06cc\\u0645\\u060c \\u0645\\u0634\\u06a9\\u0644\\u0627\\u062a \\u062d\\u0644 \\u062e\\u0648\\u0627\\u0647\\u062f \\u0634\\u062f. \\u0631\\u0648\\u0627\\u0628\\u0637 \\u062e\\u0648\\u0628\\u06cc \\u0628\\u0627 \\u06a9\\u0634\\u0648\\u0631\\u0647\\u0627\\u06cc \\u0647\\u0645\\u0633\\u0627\\u06cc\\u0647 \\u062f\\u0627\\u0631\\u06cc\\u0645 \\u0648 \\u0645\\u06cc\\u200c\\u062a\\u0648\\u0627\\u0646\\u06cc\\u0645 \\u0628\\u0627 \\u0622\\u0646\\u0647\\u0627 \\u062f\\u0627\\u062f\\u0648\\u0633\\u062a\\u062f \\u06a9\\u0646\\u06cc\\u0645\\u060c \\u0622\\u0646\\u0647\\u0627 \\u0622\\u0645\\u0627\\u062f\\u0647 \\u0647\\u0645\\u06a9\\u0627\\u0631\\u06cc \\u0628\\u0627 \\u0645\\u0627 \\u0647\\u0633\\u062a\\u0646\\u062f. \\ufeff\\u0628\\u0647 \\u06af\\u0632\\u0627\\u0631\\u0634 \\u062e\\u0628\\u0631\\u0646\\u06af\\u0627\\u0631 \\u067e\\u0627\\u0631\\u0644\\u0645\\u0627\\u0646\\u06cc \\u062e\\u0628\\u0631\\u06af\\u0632\\u0627\\u0631\\u06cc \\u062a\\u0633\\u0646\\u06cc\\u0645\\u060c \\u0646\\u0648\\u062f \\u0648 \\u0634\\u0634\\u0645\\u06cc\\u0646 \\u062c\\u0644\\u0633\\u0647 \\u0639\\u0644\\u0646\\u06cc \\u0645\\u062c\\u0644\\u0633 \\u0634\\u0648\\u0631\\u0627\\u06cc \\u0627\\u0633\\u0644\\u0627\\u0645\\u06cc \\u0628\\u0647 \\u0631\\u06cc\\u0627\\u0633\\u062a \\u062d\\u0645\\u06cc\\u062f\\u0631\\u0636\\u0627 \\u062d\\u0627\\u062c\\u06cc \\u0628\\u0627\\u0628\\u0627\\u06cc\\u06cc \\u0646\\u0627\\u06cc\\u0628 \\u0631\\u0626\\u06cc\\u0633 \\u0642\\u0648\\u0647 \\u0645\\u0642\\u0646\\u0646\\u0647 \\u0648 \\u0628\\u0627 \\u062d\\u0636\\u0648\\u0631 \\u0627\\u06a9\\u062b\\u0631\\u06cc\\u062a \\u0646\\u0645\\u0627\\u06cc\\u0646\\u062f\\u06af\\u0627\\u0646 \\u0622\\u063a\\u0627\\u0632 \\u0634\\u062f \\u06a9\\u0647 \\u062f\\u0633\\u062a\\u0648\\u0631\\u06a9\\u0627\\u0631 \\u0627\\u06cc\\u0646 \\u062c\\u0644\\u0633\\u0647 \\u0628\\u0647 \\u0634\\u0631\\u062d \\u0630\\u06cc\\u0644 \\u0627\\u0633\\u062a: \\u0627\\u062f\\u0627\\u0645\\u0647 \\u0631\\u0633\\u06cc\\u062f\\u06af\\u06cc \\u0628\\u0647 \\u06af\\u0632\\u0627\\u0631\\u0634 \\u06a9\\u0645\\u06cc\\u0633\\u06cc\\u0648\\u0646 \\u06a9\\u0634\\u0627\\u0648\\u0631\\u0632\\u06cc\\u060c \\u0622\\u0628 \\u0645\\u0646\\u0627\\u0628\\u0639 \\u0637\\u0628\\u06cc\\u0639\\u06cc \\u0648 \\u0645\\u062d\\u06cc\\u0637 \\u0632\\u06cc\\u0633\\u062a \\u062f\\u0631 \\u0645\\u0648\\u0631\\u062f \\u0637\\u0631\\u062d \\u062a\\u0642\\u0648\\u06cc\\u062a \\u0627\\u0645\\u0646\\u06cc\\u062a \\u063a\\u0630\\u0627\\u06cc\\u06cc \\u06a9\\u0634\\u0648\\u0631 \\u0648 \\u0631\\u0641\\u0639 \\u0645\\u0648\\u0627\\u0646\\u0639 \\u062a\\u0648\\u0644\\u06cc\\u062f\\u0627\\u062a \\u06a9\\u0634\\u0627\\u0648\\u0631\\u0632\\u06cc (\\u0627\\u0639\\u0627\\u062f\\u0647 \\u0634\\u062f\\u0647 \\u0627\\u0632 \\u0634\\u0648\\u0631\\u0627\\u06cc \\u0646\\u06af\\u0647\\u0628\\u0627\\u0646) \\u0627\\u062f\\u0627\\u0645\\u0647 \\u0631\\u0633\\u06cc\\u062f\\u06af\\u06cc \\u0628\\u0647 \\u06af\\u0632\\u0627\\u0631\\u0634 \\u0634\\u0648\\u0631 \\u062f\\u0648\\u0645 \\u06a9\\u0645\\u06cc\\u0633\\u06cc\\u0648\\u0646 \\u0641\\u0631\\u0647\\u0646\\u06af\\u06cc \\u062f\\u0631 \\u0645\\u0648\\u0631\\u062f \\u0644\\u0627\\u06cc\\u062d\\u0647 \\u0646\\u0638\\u0627\\u0645 \\u062c\\u0627\\u0645\\u0639 \\u0628\\u0627\\u0634\\u06af\\u0627\\u0647 \\u062f\\u0627\\u0631\\u06cc \\u06af\\u0632\\u0627\\u0631\\u0634 \\u06a9\\u0645\\u06cc\\u0633\\u06cc\\u0648\\u0646 \\u0642\\u0636\\u0627\\u0626\\u06cc \\u0648 \\u062d\\u0642\\u0648\\u0642\\u06cc \\u062f\\u0631 \\u0645\\u0648\\u0631\\u062f \\u0644\\u0627\\u06cc\\u062d\\u0647 \\u0645\\u0639\\u0627\\u0647\\u062f\\u0647 \\u0628\\u06cc\\u0646 \\u062f\\u0648\\u0644\\u062a \\u062c\\u0645\\u0647\\u0648\\u0631\\u06cc \\u0627\\u0633\\u0644\\u0627\\u0645\\u06cc \\u0627\\u06cc\\u0631\\u0627\\u0646 \\u0648 \\u062f\\u0648\\u0644\\u062a \\u0645\\u0627\\u0644\\u0632\\u06cc \\u062f\\u0631 \\u0632\\u0645\\u06cc\\u0646\\u0647 \\u0627\\u0646\\u062a\\u0642\\u0627\\u0644 \\u0628\\u06cc\\u0646 \\u0627\\u0644\\u0645\\u0644\\u0644\\u06cc \\u0632\\u0646\\u062f\\u0627\\u0646\\u06cc\\u0627\\u0646 \\u06af\\u0632\\u0627\\u0631\\u0634 \\u06a9\\u0645\\u06cc\\u0633\\u06cc\\u0648\\u0646 \\u0627\\u062c\\u062a\\u0645\\u0627\\u0639\\u06cc \\u062f\\u0631 \\u0645\\u0648\\u0631\\u062f \\u0644\\u0627\\u06cc\\u062d\\u0647 \\u0627\\u0635\\u0644\\u0627\\u062d \\u0645\\u0627\\u062f\\u0647 (37) \\u0642\\u0627\\u0646\\u0648\\u0646 \\u062a\\u0623\\u0645\\u06cc\\u0646 \\u0627\\u062c\\u062a\\u0645\\u0627\\u0639\\u06cc \\u06af\\u0632\\u0627\\u0631\\u0634 \\u06a9\\u0645\\u06cc\\u0633\\u06cc\\u0648\\u0646 \\u0642\\u0636\\u0627\\u0626\\u06cc \\u0648 \\u062d\\u0642\\u0648\\u0642\\u06cc \\u062f\\u0631 \\u0645\\u0648\\u0631\\u062f \\u0637\\u0631\\u062d \\u0627\\u0635\\u0644\\u0627\\u062d \\u0645\\u0648\\u0627\\u062f\\u06cc \\u0627\\u0632 \\u0642\\u0627\\u0646\\u0648\\u0646 \\u0646\\u062d\\u0648\\u0647 \\u0627\\u062c\\u0631\\u0627\\u06cc \\u0645\\u062d\\u06a9\\u0648\\u0645\\u06cc\\u062a\\u0647\\u0627\\u06cc \\u0645\\u0627\\u0644\\u06cc \\u0648 \\u0628\\u0631\\u062e\\u06cc \\u0627\\u0632 \\u0627\\u062d\\u06a9\\u0627\\u0645 \\u0631\\u0627\\u062c\\u0639 \\u0628\\u0647 \\u0645\\u0647\\u0631\\u06cc\\u0647 \\u06af\\u0632\\u0627\\u0631\\u0634 \\u06a9\\u0645\\u06cc\\u0633\\u06cc\\u0648\\u0646 \\u0642\\u0636\\u0627\\u0626\\u06cc \\u0648 \\u062d\\u0642\\u0648\\u0642\\u06cc \\u062f\\u0631 \\u0645\\u0648\\u0631\\u062f \\u0644\\u0627\\u06cc\\u062d\\u0647 \\u0627\\u0644\\u062d\\u0627\\u0642 \\u062f\\u0648\\u0644\\u062a \\u062c\\u0645\\u0647\\u0648\\u0631\\u06cc \\u0627\\u0633\\u0644\\u0627\\u0645\\u06cc \\u0627\\u06cc\\u0631\\u0627\\u0646 \\u0628\\u0647 \\u0645\\u0639\\u0627\\u0647\\u062f\\u0647 \\u0645\\u0631\\u0627\\u06a9\\u0634 \\u0628\\u0631\\u0627\\u06cc \\u062a\\u0633\\u0647\\u06cc\\u0644 \\u062f\\u0633\\u062a\\u0631\\u0633\\u06cc \\u0627\\u0641\\u0631\\u0627\\u062f \\u0646\\u0627\\u0628\\u06cc\\u0646\\u0627 \\u06a9\\u0645 \\u0628\\u06cc\\u0646\\u0627 \\u06cc\\u0627 \\u062f\\u0627\\u0631\\u0627\\u06cc \\u062f\\u06cc\\u06af\\u0631 \\u0645\\u0639\\u0644\\u0648\\u0644\\u06cc\\u062a\\u0647\\u0627\\u06cc \\u062e\\u0648\\u0627\\u0646\\u0634\\u06cc \\u0628\\u0647 \\u0622\\u062b\\u0627\\u0631 \\u0645\\u0646\\u062a\\u0634\\u0631 \\u0634\\u062f\\u0647 \\u06af\\u0632\\u0627\\u0631\\u0634 \\u06a9\\u0645\\u06cc\\u0633\\u06cc\\u0648\\u0646 \\u0635\\u0646\\u0627\\u06cc\\u0639 \\u0648 \\u0645\\u0639\\u0627\\u062f\\u0646 \\u062f\\u0631 \\u0645\\u0648\\u0631\\u062f \\u0644\\u0627\\u06cc\\u062d\\u0647 \\u0627\\u0635\\u0644\\u0627\\u062d \\u062a\\u0628\\u0635\\u0631\\u0647 (1) \\u0645\\u0627\\u062f\\u0647 (2) \\u0642\\u0627\\u0646\\u0648\\u0646 \\u062d\\u0645\\u0627\\u06cc\\u062a \\u0627\\u0632 \\u0647\\u0646\\u0631\\u0645\\u0646\\u062f\\u0627\\u0646\\u060c \\u0627\\u0633\\u062a\\u0627\\u062f\\u06a9\\u0627\\u0631\\u0627\\u0646 \\u0648 \\u0641\\u0639\\u0627\\u0644\\u0627\\u0646 \\u0635\\u0646\\u0627\\u06cc\\u0639 \\u062f\\u0633\\u062a\\u06cc. \\u0627\\u0646\\u062a\\u0647\\u0627\\u06cc\\u200c \\u067e\\u06cc\\u0627\\u0645/\",\n          \"\\u0628\\u06cc\\u0634 \\u0627\\u0632 3\\u0645\\u06cc\\u0644\\u06cc\\u0648\\u0646 \\u062f\\u0644\\u0627\\u0631 \\u062e\\u0633\\u0627\\u0631\\u062a \\u0633\\u0627\\u0644\\u0627\\u0646\\u0647 \\u0635\\u0647\\u06cc\\u0648\\u0646\\u06cc\\u0633\\u062a\\u200c\\u0647\\u0627 \\u0627\\u0632 \\u062d\\u0645\\u0644\\u0627\\u062a \\u0633\\u0627\\u06cc\\u0628\\u0631\\u06cc \\u0645\\u0646\\u0634\\u0623 \\u062d\\u0645\\u0644\\u0627\\u062a \\u0633\\u0627\\u06cc\\u0628\\u0631\\u06cc \\u0628\\u0647 \\u0627\\u0633\\u0631\\u0627\\u0626\\u06cc\\u0644 \\u0645\\u0634\\u062e\\u0635 \\u0646\\u06cc\\u0633\\u062a \\u0648 \\u0627\\u06cc\\u0646 \\u0631\\u0698\\u06cc\\u0645 \\u0645\\u06cc\\u200c\\u06a9\\u0648\\u0634\\u062f \\u0646\\u0648\\u06a9 \\u067e\\u06cc\\u06a9\\u0627\\u0646 \\u062d\\u0645\\u0644\\u0647 \\u0631\\u0627 \\u0628\\u0647 \\u0633\\u0645\\u062a \\u0627\\u06cc\\u0631\\u0627\\u0646 \\u0628\\u06af\\u06cc\\u0631\\u062f \\u0627\\u0645\\u0627 \\u0648\\u0627\\u0642\\u0639\\u06cc\\u062a \\u0627\\u06cc\\u0646 \\u0627\\u0633\\u062a \\u0628\\u0639\\u062f \\u0627\\u0632 \\u0637\\u0648\\u0641\\u0627\\u0646\\u200c\\u0627\\u0644\\u0627\\u0642\\u0635\\u06cc \\u0648 \\u062c\\u0646\\u0627\\u06cc\\u0627\\u062a \\u0631\\u0698\\u06cc\\u0645 \\u0627\\u0634\\u063a\\u0627\\u0644\\u06af\\u0631 \\u0642\\u062f\\u0633 \\u0639\\u0644\\u06cc\\u0647 \\u0633\\u0627\\u06a9\\u0646\\u0627\\u0646 \\u063a\\u0632\\u0647\\u060c \\u06af\\u0631\\u0648\\u0647\\u200c\\u0647\\u0627\\u06cc \\u0645\\u062e\\u062a\\u0644\\u0641 \\u0633\\u0627\\u06cc\\u0628\\u0631\\u06cc \\u062f\\u0631 \\u062d\\u0627\\u0644 \\u0627\\u0642\\u062f\\u0627\\u0645 \\u0639\\u0644\\u06cc\\u0647 \\u0633\\u0627\\u06a9\\u0646\\u0627\\u0646 \\u0627\\u0631\\u0627\\u0636\\u06cc \\u0627\\u0634\\u063a\\u0627\\u0644\\u06cc \\u0647\\u0633\\u062a\\u0646\\u062f. \\ufeff\"\n        ],\n        \"semantic_type\": \"\",\n        \"description\": \"\"\n      }\n    }\n  ]\n}",
       "type": "dataframe",
       "variable_name": "df"
      },
      "text/html": [
       "\n",
       "  <div id=\"df-347cb6fb-b760-4e34-aeba-5ddb35cd6918\" class=\"colab-df-container\">\n",
       "    <div>\n",
       "<style scoped>\n",
       "    .dataframe tbody tr th:only-of-type {\n",
       "        vertical-align: middle;\n",
       "    }\n",
       "\n",
       "    .dataframe tbody tr th {\n",
       "        vertical-align: top;\n",
       "    }\n",
       "\n",
       "    .dataframe thead th {\n",
       "        text-align: right;\n",
       "    }\n",
       "</style>\n",
       "<table border=\"1\" class=\"dataframe\">\n",
       "  <thead>\n",
       "    <tr style=\"text-align: right;\">\n",
       "      <th></th>\n",
       "      <th>Sport_News</th>\n",
       "      <th>Political_News</th>\n",
       "    </tr>\n",
       "  </thead>\n",
       "  <tbody>\n",
       "    <tr>\n",
       "      <th>0</th>\n",
       "      <td>تأیید 2 نامزد ریاست نجات غریق با وجود ابطال فر...</td>\n",
       "      <td>واکنش مجلس به جانبداری‌های آژانس بین المللی ان...</td>\n",
       "    </tr>\n",
       "    <tr>\n",
       "      <th>1</th>\n",
       "      <td>شکوری: صحبت‌هایی با استقلال شده اما با هوادار ...</td>\n",
       "      <td>مهاجرانی:تغییر ساعت مدارس با همین روال پیش خوا...</td>\n",
       "    </tr>\n",
       "    <tr>\n",
       "      <th>2</th>\n",
       "      <td>نایب قهرمانی تیم وزنه‌برداری ایران در آسیا تیم...</td>\n",
       "      <td>بازگشت مدیرعامل سابق پدیده شاندیز به زندان نما...</td>\n",
       "    </tr>\n",
       "    <tr>\n",
       "      <th>3</th>\n",
       "      <td>گولسیانی: شاید پرسپولیس به ماندن من علاقه ندار...</td>\n",
       "      <td>7 درصد گوشت مورد نیاز با ارز ترجیحی وارد می‌شو...</td>\n",
       "    </tr>\n",
       "    <tr>\n",
       "      <th>4</th>\n",
       "      <td>آل‌کثیر: حاضر بودم بسوزم و خودخوری کنم اما تیم...</td>\n",
       "      <td>لاریجانی: مشورت پذیری از ویژگی‌های شهید رئیسی ...</td>\n",
       "    </tr>\n",
       "  </tbody>\n",
       "</table>\n",
       "</div>\n",
       "    <div class=\"colab-df-buttons\">\n",
       "\n",
       "  <div class=\"colab-df-container\">\n",
       "    <button class=\"colab-df-convert\" onclick=\"convertToInteractive('df-347cb6fb-b760-4e34-aeba-5ddb35cd6918')\"\n",
       "            title=\"Convert this dataframe to an interactive table.\"\n",
       "            style=\"display:none;\">\n",
       "\n",
       "  <svg xmlns=\"http://www.w3.org/2000/svg\" height=\"24px\" viewBox=\"0 -960 960 960\">\n",
       "    <path d=\"M120-120v-720h720v720H120Zm60-500h600v-160H180v160Zm220 220h160v-160H400v160Zm0 220h160v-160H400v160ZM180-400h160v-160H180v160Zm440 0h160v-160H620v160ZM180-180h160v-160H180v160Zm440 0h160v-160H620v160Z\"/>\n",
       "  </svg>\n",
       "    </button>\n",
       "\n",
       "  <style>\n",
       "    .colab-df-container {\n",
       "      display:flex;\n",
       "      gap: 12px;\n",
       "    }\n",
       "\n",
       "    .colab-df-convert {\n",
       "      background-color: #E8F0FE;\n",
       "      border: none;\n",
       "      border-radius: 50%;\n",
       "      cursor: pointer;\n",
       "      display: none;\n",
       "      fill: #1967D2;\n",
       "      height: 32px;\n",
       "      padding: 0 0 0 0;\n",
       "      width: 32px;\n",
       "    }\n",
       "\n",
       "    .colab-df-convert:hover {\n",
       "      background-color: #E2EBFA;\n",
       "      box-shadow: 0px 1px 2px rgba(60, 64, 67, 0.3), 0px 1px 3px 1px rgba(60, 64, 67, 0.15);\n",
       "      fill: #174EA6;\n",
       "    }\n",
       "\n",
       "    .colab-df-buttons div {\n",
       "      margin-bottom: 4px;\n",
       "    }\n",
       "\n",
       "    [theme=dark] .colab-df-convert {\n",
       "      background-color: #3B4455;\n",
       "      fill: #D2E3FC;\n",
       "    }\n",
       "\n",
       "    [theme=dark] .colab-df-convert:hover {\n",
       "      background-color: #434B5C;\n",
       "      box-shadow: 0px 1px 3px 1px rgba(0, 0, 0, 0.15);\n",
       "      filter: drop-shadow(0px 1px 2px rgba(0, 0, 0, 0.3));\n",
       "      fill: #FFFFFF;\n",
       "    }\n",
       "  </style>\n",
       "\n",
       "    <script>\n",
       "      const buttonEl =\n",
       "        document.querySelector('#df-347cb6fb-b760-4e34-aeba-5ddb35cd6918 button.colab-df-convert');\n",
       "      buttonEl.style.display =\n",
       "        google.colab.kernel.accessAllowed ? 'block' : 'none';\n",
       "\n",
       "      async function convertToInteractive(key) {\n",
       "        const element = document.querySelector('#df-347cb6fb-b760-4e34-aeba-5ddb35cd6918');\n",
       "        const dataTable =\n",
       "          await google.colab.kernel.invokeFunction('convertToInteractive',\n",
       "                                                    [key], {});\n",
       "        if (!dataTable) return;\n",
       "\n",
       "        const docLinkHtml = 'Like what you see? Visit the ' +\n",
       "          '<a target=\"_blank\" href=https://colab.research.google.com/notebooks/data_table.ipynb>data table notebook</a>'\n",
       "          + ' to learn more about interactive tables.';\n",
       "        element.innerHTML = '';\n",
       "        dataTable['output_type'] = 'display_data';\n",
       "        await google.colab.output.renderOutput(dataTable, element);\n",
       "        const docLink = document.createElement('div');\n",
       "        docLink.innerHTML = docLinkHtml;\n",
       "        element.appendChild(docLink);\n",
       "      }\n",
       "    </script>\n",
       "  </div>\n",
       "\n",
       "\n",
       "    <div id=\"df-55622241-e680-46c4-8dcf-64c30e113a25\">\n",
       "      <button class=\"colab-df-quickchart\" onclick=\"quickchart('df-55622241-e680-46c4-8dcf-64c30e113a25')\"\n",
       "                title=\"Suggest charts\"\n",
       "                style=\"display:none;\">\n",
       "\n",
       "<svg xmlns=\"http://www.w3.org/2000/svg\" height=\"24px\"viewBox=\"0 0 24 24\"\n",
       "     width=\"24px\">\n",
       "    <g>\n",
       "        <path d=\"M19 3H5c-1.1 0-2 .9-2 2v14c0 1.1.9 2 2 2h14c1.1 0 2-.9 2-2V5c0-1.1-.9-2-2-2zM9 17H7v-7h2v7zm4 0h-2V7h2v10zm4 0h-2v-4h2v4z\"/>\n",
       "    </g>\n",
       "</svg>\n",
       "      </button>\n",
       "\n",
       "<style>\n",
       "  .colab-df-quickchart {\n",
       "      --bg-color: #E8F0FE;\n",
       "      --fill-color: #1967D2;\n",
       "      --hover-bg-color: #E2EBFA;\n",
       "      --hover-fill-color: #174EA6;\n",
       "      --disabled-fill-color: #AAA;\n",
       "      --disabled-bg-color: #DDD;\n",
       "  }\n",
       "\n",
       "  [theme=dark] .colab-df-quickchart {\n",
       "      --bg-color: #3B4455;\n",
       "      --fill-color: #D2E3FC;\n",
       "      --hover-bg-color: #434B5C;\n",
       "      --hover-fill-color: #FFFFFF;\n",
       "      --disabled-bg-color: #3B4455;\n",
       "      --disabled-fill-color: #666;\n",
       "  }\n",
       "\n",
       "  .colab-df-quickchart {\n",
       "    background-color: var(--bg-color);\n",
       "    border: none;\n",
       "    border-radius: 50%;\n",
       "    cursor: pointer;\n",
       "    display: none;\n",
       "    fill: var(--fill-color);\n",
       "    height: 32px;\n",
       "    padding: 0;\n",
       "    width: 32px;\n",
       "  }\n",
       "\n",
       "  .colab-df-quickchart:hover {\n",
       "    background-color: var(--hover-bg-color);\n",
       "    box-shadow: 0 1px 2px rgba(60, 64, 67, 0.3), 0 1px 3px 1px rgba(60, 64, 67, 0.15);\n",
       "    fill: var(--button-hover-fill-color);\n",
       "  }\n",
       "\n",
       "  .colab-df-quickchart-complete:disabled,\n",
       "  .colab-df-quickchart-complete:disabled:hover {\n",
       "    background-color: var(--disabled-bg-color);\n",
       "    fill: var(--disabled-fill-color);\n",
       "    box-shadow: none;\n",
       "  }\n",
       "\n",
       "  .colab-df-spinner {\n",
       "    border: 2px solid var(--fill-color);\n",
       "    border-color: transparent;\n",
       "    border-bottom-color: var(--fill-color);\n",
       "    animation:\n",
       "      spin 1s steps(1) infinite;\n",
       "  }\n",
       "\n",
       "  @keyframes spin {\n",
       "    0% {\n",
       "      border-color: transparent;\n",
       "      border-bottom-color: var(--fill-color);\n",
       "      border-left-color: var(--fill-color);\n",
       "    }\n",
       "    20% {\n",
       "      border-color: transparent;\n",
       "      border-left-color: var(--fill-color);\n",
       "      border-top-color: var(--fill-color);\n",
       "    }\n",
       "    30% {\n",
       "      border-color: transparent;\n",
       "      border-left-color: var(--fill-color);\n",
       "      border-top-color: var(--fill-color);\n",
       "      border-right-color: var(--fill-color);\n",
       "    }\n",
       "    40% {\n",
       "      border-color: transparent;\n",
       "      border-right-color: var(--fill-color);\n",
       "      border-top-color: var(--fill-color);\n",
       "    }\n",
       "    60% {\n",
       "      border-color: transparent;\n",
       "      border-right-color: var(--fill-color);\n",
       "    }\n",
       "    80% {\n",
       "      border-color: transparent;\n",
       "      border-right-color: var(--fill-color);\n",
       "      border-bottom-color: var(--fill-color);\n",
       "    }\n",
       "    90% {\n",
       "      border-color: transparent;\n",
       "      border-bottom-color: var(--fill-color);\n",
       "    }\n",
       "  }\n",
       "</style>\n",
       "\n",
       "      <script>\n",
       "        async function quickchart(key) {\n",
       "          const quickchartButtonEl =\n",
       "            document.querySelector('#' + key + ' button');\n",
       "          quickchartButtonEl.disabled = true;  // To prevent multiple clicks.\n",
       "          quickchartButtonEl.classList.add('colab-df-spinner');\n",
       "          try {\n",
       "            const charts = await google.colab.kernel.invokeFunction(\n",
       "                'suggestCharts', [key], {});\n",
       "          } catch (error) {\n",
       "            console.error('Error during call to suggestCharts:', error);\n",
       "          }\n",
       "          quickchartButtonEl.classList.remove('colab-df-spinner');\n",
       "          quickchartButtonEl.classList.add('colab-df-quickchart-complete');\n",
       "        }\n",
       "        (() => {\n",
       "          let quickchartButtonEl =\n",
       "            document.querySelector('#df-55622241-e680-46c4-8dcf-64c30e113a25 button');\n",
       "          quickchartButtonEl.style.display =\n",
       "            google.colab.kernel.accessAllowed ? 'block' : 'none';\n",
       "        })();\n",
       "      </script>\n",
       "    </div>\n",
       "\n",
       "    </div>\n",
       "  </div>\n"
      ],
      "text/plain": [
       "                                          Sport_News  \\\n",
       "0  تأیید 2 نامزد ریاست نجات غریق با وجود ابطال فر...   \n",
       "1  شکوری: صحبت‌هایی با استقلال شده اما با هوادار ...   \n",
       "2  نایب قهرمانی تیم وزنه‌برداری ایران در آسیا تیم...   \n",
       "3  گولسیانی: شاید پرسپولیس به ماندن من علاقه ندار...   \n",
       "4  آل‌کثیر: حاضر بودم بسوزم و خودخوری کنم اما تیم...   \n",
       "\n",
       "                                      Political_News  \n",
       "0  واکنش مجلس به جانبداری‌های آژانس بین المللی ان...  \n",
       "1  مهاجرانی:تغییر ساعت مدارس با همین روال پیش خوا...  \n",
       "2  بازگشت مدیرعامل سابق پدیده شاندیز به زندان نما...  \n",
       "3  7 درصد گوشت مورد نیاز با ارز ترجیحی وارد می‌شو...  \n",
       "4  لاریجانی: مشورت پذیری از ویژگی‌های شهید رئیسی ...  "
      ]
     },
     "execution_count": 9,
     "metadata": {},
     "output_type": "execute_result"
    }
   ],
   "source": [
    "df.head()"
   ]
  },
  {
   "cell_type": "markdown",
   "metadata": {
    "id": "NJuwGZtZZA58"
   },
   "source": [
    "# Preprocessing & EDA"
   ]
  },
  {
   "cell_type": "markdown",
   "metadata": {
    "id": "MqECWD3MG4Kt"
   },
   "source": [
    "**The news vary in length depending on the number of words! Finding the most normal range could help us to find the maximum length of the sequences for the preprocessing step. On the other hand, we assume that the minimum word combination for a meaningful phrase for our learning process is 3.**"
   ]
  },
  {
   "cell_type": "code",
   "execution_count": 11,
   "metadata": {
    "colab": {
     "base_uri": "https://localhost:8080/"
    },
    "executionInfo": {
     "elapsed": 323,
     "status": "ok",
     "timestamp": 1748754828584,
     "user": {
      "displayName": "Kayvan Afzalnia",
      "userId": "12756300678119011802"
     },
     "user_tz": -210
    },
    "id": "pdyQ1gyGpHLq",
    "outputId": "33490ccd-efdb-4cc9-939c-30b4b1209448"
   },
   "outputs": [
    {
     "name": "stdout",
     "output_type": "stream",
     "text": [
      "Sport: \n",
      " Min: 15 \tMax: 1931\n",
      "Political: \n",
      " Min: 18 \tMax: 2817\n"
     ]
    }
   ],
   "source": [
    "# calculate the length of comments based on their words\n",
    "df['sport_len_by_words'] = df['Sport_News'].apply(lambda t: len(hazm.word_tokenize(t)))\n",
    "df['political_len_by_words'] = df['Political_News'].apply(lambda t: len(hazm.word_tokenize(t)))\n",
    "\n",
    "\n",
    "min_max_len_s = [df[\"sport_len_by_words\"].min(), df[\"sport_len_by_words\"].max()]\n",
    "print(f'Sport: \\n Min: {min_max_len_s[0]} \\tMax: {min_max_len_s[1]}')\n",
    "min_max_len_e = df[\"political_len_by_words\"].min(), df[\"political_len_by_words\"].max()\n",
    "print(f'Political: \\n Min: {min_max_len_e[0]} \\tMax: {min_max_len_e[1]}')"
   ]
  },
  {
   "cell_type": "code",
   "execution_count": 12,
   "metadata": {
    "executionInfo": {
     "elapsed": 4,
     "status": "ok",
     "timestamp": 1748754859122,
     "user": {
      "displayName": "Kayvan Afzalnia",
      "userId": "12756300678119011802"
     },
     "user_tz": -210
    },
    "id": "MRA2J4F96xZF"
   },
   "outputs": [],
   "source": [
    "def data_gl_than(data, less_than=20, greater_than=0.0, col='comment_len_by_words'):\n",
    "    data_length = data[col].values\n",
    "\n",
    "    data_glt = sum([1 for length in data_length if greater_than < length <= less_than])\n",
    "\n",
    "    data_glt_rate = (data_glt / len(data_length)) * 100\n",
    "\n",
    "    print(f'Texts with a word length of more than {greater_than} and less than {less_than} comprise {data_glt_rate:.2f}% of the whole!')"
   ]
  },
  {
   "cell_type": "code",
   "execution_count": 14,
   "metadata": {
    "colab": {
     "base_uri": "https://localhost:8080/"
    },
    "executionInfo": {
     "elapsed": 15,
     "status": "ok",
     "timestamp": 1748754921586,
     "user": {
      "displayName": "Kayvan Afzalnia",
      "userId": "12756300678119011802"
     },
     "user_tz": -210
    },
    "id": "dPQx4UXl66Ig",
    "outputId": "7205b549-a749-496d-e280-5fb4b92bf035"
   },
   "outputs": [
    {
     "name": "stdout",
     "output_type": "stream",
     "text": [
      "Texts with a word length of more than 3 and less than 1024 comprise 91.67% of the whole!\n"
     ]
    }
   ],
   "source": [
    "data_gl_than(df, 1024, 3, \"political_len_by_words\")"
   ]
  },
  {
   "cell_type": "code",
   "execution_count": 15,
   "metadata": {
    "colab": {
     "base_uri": "https://localhost:8080/"
    },
    "executionInfo": {
     "elapsed": 8,
     "status": "ok",
     "timestamp": 1748754936047,
     "user": {
      "displayName": "Kayvan Afzalnia",
      "userId": "12756300678119011802"
     },
     "user_tz": -210
    },
    "id": "vj4xGVn07iJw",
    "outputId": "3034d517-86e2-4049-dc9c-a6dee9e26d13"
   },
   "outputs": [
    {
     "name": "stdout",
     "output_type": "stream",
     "text": [
      "Texts with a word length of more than 3 and less than 1024 comprise 98.33% of the whole!\n"
     ]
    }
   ],
   "source": [
    "data_gl_than(df, 1024, 3, \"sport_len_by_words\")"
   ]
  },
  {
   "cell_type": "code",
   "execution_count": 16,
   "metadata": {
    "executionInfo": {
     "elapsed": 13,
     "status": "ok",
     "timestamp": 1748754951859,
     "user": {
      "displayName": "Kayvan Afzalnia",
      "userId": "12756300678119011802"
     },
     "user_tz": -210
    },
    "id": "-5WHMaZ_7-k9"
   },
   "outputs": [],
   "source": [
    "minlim, maxlim = 3, 1024"
   ]
  },
  {
   "cell_type": "code",
   "execution_count": 19,
   "metadata": {
    "executionInfo": {
     "elapsed": 22,
     "status": "ok",
     "timestamp": 1748754990524,
     "user": {
      "displayName": "Kayvan Afzalnia",
      "userId": "12756300678119011802"
     },
     "user_tz": -210
    },
    "id": "DosUYepz8A2F"
   },
   "outputs": [],
   "source": [
    "# Remove news less than three and greater than 1024 words in length\n",
    "df['political_len_by_words'] = df['political_len_by_words'].apply(lambda len_t: len_t if minlim < len_t <= maxlim else None)\n",
    "df = df.dropna(subset=['political_len_by_words'])\n",
    "\n",
    "df = df.reset_index(drop=True)"
   ]
  },
  {
   "cell_type": "code",
   "execution_count": 20,
   "metadata": {
    "colab": {
     "base_uri": "https://localhost:8080/"
    },
    "executionInfo": {
     "elapsed": 26,
     "status": "ok",
     "timestamp": 1748754990896,
     "user": {
      "displayName": "Kayvan Afzalnia",
      "userId": "12756300678119011802"
     },
     "user_tz": -210
    },
    "id": "5KSfzso28o67",
    "outputId": "c2328474-9340-41f1-98e8-e10845d9f900"
   },
   "outputs": [
    {
     "name": "stdout",
     "output_type": "stream",
     "text": [
      "Shape of my data: \n",
      " (217, 4)\n"
     ]
    }
   ],
   "source": [
    "df['sport_len_by_words'] = df['sport_len_by_words'].apply(lambda len_t: len_t if minlim < len_t <= maxlim else None)\n",
    "df = df.dropna(subset=['sport_len_by_words'])\n",
    "df = df.reset_index(drop=True)\n",
    "print(f'Shape of my data: \\n {df.shape}')"
   ]
  },
  {
   "cell_type": "markdown",
   "metadata": {
    "id": "cx4kK9O_ZHLm"
   },
   "source": [
    "**Preprocessing Steps**\n",
    "- First, we normalize the columns. By normalize, I mean that we convert the data into a more human-readable form and remove a minimum of text features, such as spaces around punctuation marks, stop words, line breaks and etc."
   ]
  },
  {
   "cell_type": "code",
   "execution_count": 21,
   "metadata": {
    "executionInfo": {
     "elapsed": 91,
     "status": "ok",
     "timestamp": 1748755024404,
     "user": {
      "displayName": "Kayvan Afzalnia",
      "userId": "12756300678119011802"
     },
     "user_tz": -210
    },
    "id": "zH9seMzmYJkN"
   },
   "outputs": [],
   "source": [
    "class TextPreprocessing():\n",
    "    \"\"\"Class for preprocessing text data.\"\"\"\n",
    "\n",
    "    def __init__(self):\n",
    "        self.normalizer = Normalizer()\n",
    "        self.stemmer = Stemmer()\n",
    "        self.lemmatizer = Lemmatizer()\n",
    "\n",
    "    def weird_patterns(self, data):\n",
    "        weird_pattern = re.compile(\n",
    "          \"[\"\n",
    "          u\"\\U0001F600-\\U0001F64F\"  # emoticons\n",
    "          u\"\\U0001F300-\\U0001F5FF\"  # symbols & pictographs\n",
    "          u\"\\U0001F680-\\U0001F6FF\"  # transport & map symbols\n",
    "          u\"\\U0001F1E0-\\U0001F1FF\"  # flags (iOS)\n",
    "          u\"\\U00002702-\\U000027B0\"\n",
    "          u\"\\U000024C2-\\U0001F251\"\n",
    "          u\"\\U0001f926-\\U0001f937\"\n",
    "          u'\\U00010000-\\U0010ffff'\n",
    "          u\"\\u200c\"\n",
    "          \"]+\", flags=re.UNICODE)\n",
    "        return [weird_pattern.sub(r'', sent ) for sent in data]\n",
    "\n",
    "    def normalize(self, news):\n",
    "      return [(self.normalizer.normalize(new))for new in news]\n",
    "\n",
    "    def sent_to_words(self, sentences):\n",
    "      for sentence in sentences:\n",
    "          yield(gensim.utils.simple_preprocess(str(sentence), deacc=True))\n",
    "\n",
    "    def lemma(self, texts):\n",
    "      return [[(self.lemmatizer.lemmatize(word))for word in text]for text in texts]\n",
    "\n",
    "    def remove_stop_words(self, words):\n",
    "      return [[token for token in word if token not in stopwords_list()]for word in words]\n"
   ]
  },
  {
   "cell_type": "code",
   "execution_count": 22,
   "metadata": {
    "executionInfo": {
     "elapsed": 189,
     "status": "ok",
     "timestamp": 1748755029795,
     "user": {
      "displayName": "Kayvan Afzalnia",
      "userId": "12756300678119011802"
     },
     "user_tz": -210
    },
    "id": "JBmK36rzYbe_"
   },
   "outputs": [],
   "source": [
    "def column(text):\n",
    "    data_normal = list(TP.normalize(text))\n",
    "    clean_news = TP.weird_patterns(data_normal)\n",
    "    data_words = list(TP.sent_to_words(clean_news))\n",
    "    data_stop_words = list(TP.remove_stop_words(data_words))\n",
    "    data_lemma = list(TP.lemma(data_stop_words))\n",
    "    return data_lemma"
   ]
  },
  {
   "cell_type": "code",
   "execution_count": 23,
   "metadata": {
    "executionInfo": {
     "elapsed": 33405,
     "status": "ok",
     "timestamp": 1748755087060,
     "user": {
      "displayName": "Kayvan Afzalnia",
      "userId": "12756300678119011802"
     },
     "user_tz": -210
    },
    "id": "IlYdzMq_Zao0"
   },
   "outputs": [],
   "source": [
    "TP = TextPreprocessing()\n",
    "##Preprocessing on the sport column\n",
    "df['tokens_sport'] = [\" \".join(x) for x in column(df['Sport_News'].tolist())]\n",
    "##Preprocessing on the political column\n",
    "df['tokens_political'] = [\" \".join(x) for x in column(df['Political_News'].tolist())]"
   ]
  },
  {
   "cell_type": "code",
   "execution_count": 25,
   "metadata": {
    "executionInfo": {
     "elapsed": 39,
     "status": "ok",
     "timestamp": 1748755160897,
     "user": {
      "displayName": "Kayvan Afzalnia",
      "userId": "12756300678119011802"
     },
     "user_tz": -210
    },
    "id": "9HpWD3HpKB9M"
   },
   "outputs": [],
   "source": [
    "df['political_label']= 0\n",
    "df['sport_label']= 1"
   ]
  },
  {
   "cell_type": "markdown",
   "metadata": {
    "id": "UepSb0c8AC_m"
   },
   "source": [
    "Spilit data (train = 0.85, validation = 0.05, test = 0.1)"
   ]
  },
  {
   "cell_type": "code",
   "execution_count": 30,
   "metadata": {
    "executionInfo": {
     "elapsed": 98,
     "status": "ok",
     "timestamp": 1748755250965,
     "user": {
      "displayName": "Kayvan Afzalnia",
      "userId": "12756300678119011802"
     },
     "user_tz": -210
    },
    "id": "EFau_hcAOSuN"
   },
   "outputs": [],
   "source": [
    "train_df = pd.DataFrame({'text' : df.tokens_political.iloc[:int(len(df)*0.85)].to_list() + df.tokens_sport.iloc[:int(len(df)*0.85)].to_list() ,\n",
    "                         'label' : df.political_label.iloc[:int(len(df)*0.85)].to_list() + df.sport_label.iloc[:int(len(df)*0.85)].to_list() })\n",
    "\n",
    "validation_df = pd.DataFrame({'text' : df.tokens_political.iloc[int(len(df)*0.85):int(len(df)*0.9)].to_list() + df.tokens_sport.iloc[int(len(df)*0.85):int(len(df)*0.9)].to_list() ,\n",
    "                         'label' : df.political_label.iloc[int(len(df)*0.85):int(len(df)*0.9)].to_list() + df.sport_label.iloc[int(len(df)*0.85):int(len(df)*0.9)].to_list() })\n",
    "\n",
    "test_df = pd.DataFrame({'text' : df.tokens_political.iloc[int(len(df)*0.9):len(df)].to_list() + df.tokens_sport.iloc[int(len(df)*0.9):len(df)].to_list() ,\n",
    "                         'label' : df.political_label.iloc[int(len(df)*0.9):len(df)].to_list() + df.sport_label.iloc[int(len(df)*0.9):len(df)].to_list() })"
   ]
  },
  {
   "cell_type": "code",
   "execution_count": 31,
   "metadata": {
    "executionInfo": {
     "elapsed": 3,
     "status": "ok",
     "timestamp": 1748755252139,
     "user": {
      "displayName": "Kayvan Afzalnia",
      "userId": "12756300678119011802"
     },
     "user_tz": -210
    },
    "id": "wxsvknyLl4D-"
   },
   "outputs": [],
   "source": [
    "y_train = np.array(train_df['label'], dtype=np.int32)\n",
    "y_validation = np.array(validation_df['label'], dtype=np.int32)\n",
    "y_test = np.array(test_df['label'], dtype=np.int32)"
   ]
  },
  {
   "cell_type": "markdown",
   "metadata": {
    "id": "m2lzWOfAHmP7"
   },
   "source": [
    "#Logistic Regression(Scikit-Learn)"
   ]
  },
  {
   "cell_type": "markdown",
   "metadata": {
    "id": "Q0NrbR5YrNJ3"
   },
   "source": [
    "We’ll be using the LogisticRegression class from Scikit-learn, so we start there:"
   ]
  },
  {
   "cell_type": "code",
   "execution_count": 32,
   "metadata": {
    "colab": {
     "base_uri": "https://localhost:8080/"
    },
    "executionInfo": {
     "elapsed": 146,
     "status": "ok",
     "timestamp": 1748755254723,
     "user": {
      "displayName": "Kayvan Afzalnia",
      "userId": "12756300678119011802"
     },
     "user_tz": -210
    },
    "id": "ldadTwVrSzN9",
    "outputId": "12853ee6-03c4-4275-eb0c-76a3459f0f45"
   },
   "outputs": [
    {
     "name": "stdout",
     "output_type": "stream",
     "text": [
      "sport news\n"
     ]
    }
   ],
   "source": [
    "cv = CountVectorizer()\n",
    "features = cv.fit_transform(train_df.text)\n",
    "\n",
    "\n",
    "logistic_regression = linear_model.LogisticRegression(solver=\"lbfgs\")\n",
    "model = logistic_regression.fit(features, train_df.label)\n",
    "\n",
    "input_values = [\"وی ادامه داد: حمید بنی‌تمیم مدیرکل ورزش و جوانان خوزستان فقط به خانه المپیکی‌های استان رفت و به منزل هیچ کدام از پارالمپیکی‌ها از جمله من نیامد، مگر طلای من با طلای بقیه فرق می‌کند که این اقدام را انجام داد؟ چرا بین ورزشکاران تبعیض قائل می‌شوند؟ این دور از شأن یک ورزشکار مدال‌آور است\"]\n",
    "prediction = logistic_regression.predict(cv.transform(input_values)) #adding values for prediction\n",
    "prediction = prediction[0]\n",
    "if prediction == 0:\n",
    "  print(\"political news\")\n",
    "else:\n",
    "  print(\"sport news\")"
   ]
  },
  {
   "cell_type": "markdown",
   "metadata": {
    "id": "-IUEr3xDsN3t"
   },
   "source": [
    "Accuracy"
   ]
  },
  {
   "cell_type": "code",
   "execution_count": 33,
   "metadata": {
    "colab": {
     "base_uri": "https://localhost:8080/"
    },
    "executionInfo": {
     "elapsed": 11,
     "status": "ok",
     "timestamp": 1748755258016,
     "user": {
      "displayName": "Kayvan Afzalnia",
      "userId": "12756300678119011802"
     },
     "user_tz": -210
    },
    "id": "ZG8_NBfeYXWu",
    "outputId": "ef7948b6-5dc7-4019-faac-f77bb7eb85be"
   },
   "outputs": [
    {
     "name": "stdout",
     "output_type": "stream",
     "text": [
      "1.0\n"
     ]
    }
   ],
   "source": [
    "pred = logistic_regression.predict(cv.transform(test_df.text))\n",
    "print(accuracy_score(test_df.label, pred))"
   ]
  },
  {
   "cell_type": "markdown",
   "metadata": {
    "id": "GEQNkBkl8lq_"
   },
   "source": [
    "# Random Forest(Scikit-Learn)"
   ]
  },
  {
   "cell_type": "markdown",
   "metadata": {
    "id": "-YuJYvkyFmQG"
   },
   "source": [
    "Random Forest builds decision trees on different samples and takes their majority vote for classification and average in case of regression."
   ]
  },
  {
   "cell_type": "code",
   "execution_count": 36,
   "metadata": {
    "executionInfo": {
     "elapsed": 4,
     "status": "ok",
     "timestamp": 1748755288634,
     "user": {
      "displayName": "Kayvan Afzalnia",
      "userId": "12756300678119011802"
     },
     "user_tz": -210
    },
    "id": "0nMWvI3t8k_P"
   },
   "outputs": [],
   "source": [
    "classifier_rf = RandomForestClassifier(random_state=24, n_jobs=-1, max_depth=2,\n",
    "                                       n_estimators=100, oob_score=True)"
   ]
  },
  {
   "cell_type": "code",
   "execution_count": 37,
   "metadata": {
    "colab": {
     "base_uri": "https://localhost:8080/",
     "height": 80
    },
    "executionInfo": {
     "elapsed": 422,
     "status": "ok",
     "timestamp": 1748755289816,
     "user": {
      "displayName": "Kayvan Afzalnia",
      "userId": "12756300678119011802"
     },
     "user_tz": -210
    },
    "id": "GkrezbOp84xW",
    "outputId": "35703478-5828-4121-dc78-af1065fd610e"
   },
   "outputs": [
    {
     "data": {
      "text/html": [
       "<style>#sk-container-id-2 {\n",
       "  /* Definition of color scheme common for light and dark mode */\n",
       "  --sklearn-color-text: #000;\n",
       "  --sklearn-color-text-muted: #666;\n",
       "  --sklearn-color-line: gray;\n",
       "  /* Definition of color scheme for unfitted estimators */\n",
       "  --sklearn-color-unfitted-level-0: #fff5e6;\n",
       "  --sklearn-color-unfitted-level-1: #f6e4d2;\n",
       "  --sklearn-color-unfitted-level-2: #ffe0b3;\n",
       "  --sklearn-color-unfitted-level-3: chocolate;\n",
       "  /* Definition of color scheme for fitted estimators */\n",
       "  --sklearn-color-fitted-level-0: #f0f8ff;\n",
       "  --sklearn-color-fitted-level-1: #d4ebff;\n",
       "  --sklearn-color-fitted-level-2: #b3dbfd;\n",
       "  --sklearn-color-fitted-level-3: cornflowerblue;\n",
       "\n",
       "  /* Specific color for light theme */\n",
       "  --sklearn-color-text-on-default-background: var(--sg-text-color, var(--theme-code-foreground, var(--jp-content-font-color1, black)));\n",
       "  --sklearn-color-background: var(--sg-background-color, var(--theme-background, var(--jp-layout-color0, white)));\n",
       "  --sklearn-color-border-box: var(--sg-text-color, var(--theme-code-foreground, var(--jp-content-font-color1, black)));\n",
       "  --sklearn-color-icon: #696969;\n",
       "\n",
       "  @media (prefers-color-scheme: dark) {\n",
       "    /* Redefinition of color scheme for dark theme */\n",
       "    --sklearn-color-text-on-default-background: var(--sg-text-color, var(--theme-code-foreground, var(--jp-content-font-color1, white)));\n",
       "    --sklearn-color-background: var(--sg-background-color, var(--theme-background, var(--jp-layout-color0, #111)));\n",
       "    --sklearn-color-border-box: var(--sg-text-color, var(--theme-code-foreground, var(--jp-content-font-color1, white)));\n",
       "    --sklearn-color-icon: #878787;\n",
       "  }\n",
       "}\n",
       "\n",
       "#sk-container-id-2 {\n",
       "  color: var(--sklearn-color-text);\n",
       "}\n",
       "\n",
       "#sk-container-id-2 pre {\n",
       "  padding: 0;\n",
       "}\n",
       "\n",
       "#sk-container-id-2 input.sk-hidden--visually {\n",
       "  border: 0;\n",
       "  clip: rect(1px 1px 1px 1px);\n",
       "  clip: rect(1px, 1px, 1px, 1px);\n",
       "  height: 1px;\n",
       "  margin: -1px;\n",
       "  overflow: hidden;\n",
       "  padding: 0;\n",
       "  position: absolute;\n",
       "  width: 1px;\n",
       "}\n",
       "\n",
       "#sk-container-id-2 div.sk-dashed-wrapped {\n",
       "  border: 1px dashed var(--sklearn-color-line);\n",
       "  margin: 0 0.4em 0.5em 0.4em;\n",
       "  box-sizing: border-box;\n",
       "  padding-bottom: 0.4em;\n",
       "  background-color: var(--sklearn-color-background);\n",
       "}\n",
       "\n",
       "#sk-container-id-2 div.sk-container {\n",
       "  /* jupyter's `normalize.less` sets `[hidden] { display: none; }`\n",
       "     but bootstrap.min.css set `[hidden] { display: none !important; }`\n",
       "     so we also need the `!important` here to be able to override the\n",
       "     default hidden behavior on the sphinx rendered scikit-learn.org.\n",
       "     See: https://github.com/scikit-learn/scikit-learn/issues/21755 */\n",
       "  display: inline-block !important;\n",
       "  position: relative;\n",
       "}\n",
       "\n",
       "#sk-container-id-2 div.sk-text-repr-fallback {\n",
       "  display: none;\n",
       "}\n",
       "\n",
       "div.sk-parallel-item,\n",
       "div.sk-serial,\n",
       "div.sk-item {\n",
       "  /* draw centered vertical line to link estimators */\n",
       "  background-image: linear-gradient(var(--sklearn-color-text-on-default-background), var(--sklearn-color-text-on-default-background));\n",
       "  background-size: 2px 100%;\n",
       "  background-repeat: no-repeat;\n",
       "  background-position: center center;\n",
       "}\n",
       "\n",
       "/* Parallel-specific style estimator block */\n",
       "\n",
       "#sk-container-id-2 div.sk-parallel-item::after {\n",
       "  content: \"\";\n",
       "  width: 100%;\n",
       "  border-bottom: 2px solid var(--sklearn-color-text-on-default-background);\n",
       "  flex-grow: 1;\n",
       "}\n",
       "\n",
       "#sk-container-id-2 div.sk-parallel {\n",
       "  display: flex;\n",
       "  align-items: stretch;\n",
       "  justify-content: center;\n",
       "  background-color: var(--sklearn-color-background);\n",
       "  position: relative;\n",
       "}\n",
       "\n",
       "#sk-container-id-2 div.sk-parallel-item {\n",
       "  display: flex;\n",
       "  flex-direction: column;\n",
       "}\n",
       "\n",
       "#sk-container-id-2 div.sk-parallel-item:first-child::after {\n",
       "  align-self: flex-end;\n",
       "  width: 50%;\n",
       "}\n",
       "\n",
       "#sk-container-id-2 div.sk-parallel-item:last-child::after {\n",
       "  align-self: flex-start;\n",
       "  width: 50%;\n",
       "}\n",
       "\n",
       "#sk-container-id-2 div.sk-parallel-item:only-child::after {\n",
       "  width: 0;\n",
       "}\n",
       "\n",
       "/* Serial-specific style estimator block */\n",
       "\n",
       "#sk-container-id-2 div.sk-serial {\n",
       "  display: flex;\n",
       "  flex-direction: column;\n",
       "  align-items: center;\n",
       "  background-color: var(--sklearn-color-background);\n",
       "  padding-right: 1em;\n",
       "  padding-left: 1em;\n",
       "}\n",
       "\n",
       "\n",
       "/* Toggleable style: style used for estimator/Pipeline/ColumnTransformer box that is\n",
       "clickable and can be expanded/collapsed.\n",
       "- Pipeline and ColumnTransformer use this feature and define the default style\n",
       "- Estimators will overwrite some part of the style using the `sk-estimator` class\n",
       "*/\n",
       "\n",
       "/* Pipeline and ColumnTransformer style (default) */\n",
       "\n",
       "#sk-container-id-2 div.sk-toggleable {\n",
       "  /* Default theme specific background. It is overwritten whether we have a\n",
       "  specific estimator or a Pipeline/ColumnTransformer */\n",
       "  background-color: var(--sklearn-color-background);\n",
       "}\n",
       "\n",
       "/* Toggleable label */\n",
       "#sk-container-id-2 label.sk-toggleable__label {\n",
       "  cursor: pointer;\n",
       "  display: flex;\n",
       "  width: 100%;\n",
       "  margin-bottom: 0;\n",
       "  padding: 0.5em;\n",
       "  box-sizing: border-box;\n",
       "  text-align: center;\n",
       "  align-items: start;\n",
       "  justify-content: space-between;\n",
       "  gap: 0.5em;\n",
       "}\n",
       "\n",
       "#sk-container-id-2 label.sk-toggleable__label .caption {\n",
       "  font-size: 0.6rem;\n",
       "  font-weight: lighter;\n",
       "  color: var(--sklearn-color-text-muted);\n",
       "}\n",
       "\n",
       "#sk-container-id-2 label.sk-toggleable__label-arrow:before {\n",
       "  /* Arrow on the left of the label */\n",
       "  content: \"▸\";\n",
       "  float: left;\n",
       "  margin-right: 0.25em;\n",
       "  color: var(--sklearn-color-icon);\n",
       "}\n",
       "\n",
       "#sk-container-id-2 label.sk-toggleable__label-arrow:hover:before {\n",
       "  color: var(--sklearn-color-text);\n",
       "}\n",
       "\n",
       "/* Toggleable content - dropdown */\n",
       "\n",
       "#sk-container-id-2 div.sk-toggleable__content {\n",
       "  max-height: 0;\n",
       "  max-width: 0;\n",
       "  overflow: hidden;\n",
       "  text-align: left;\n",
       "  /* unfitted */\n",
       "  background-color: var(--sklearn-color-unfitted-level-0);\n",
       "}\n",
       "\n",
       "#sk-container-id-2 div.sk-toggleable__content.fitted {\n",
       "  /* fitted */\n",
       "  background-color: var(--sklearn-color-fitted-level-0);\n",
       "}\n",
       "\n",
       "#sk-container-id-2 div.sk-toggleable__content pre {\n",
       "  margin: 0.2em;\n",
       "  border-radius: 0.25em;\n",
       "  color: var(--sklearn-color-text);\n",
       "  /* unfitted */\n",
       "  background-color: var(--sklearn-color-unfitted-level-0);\n",
       "}\n",
       "\n",
       "#sk-container-id-2 div.sk-toggleable__content.fitted pre {\n",
       "  /* unfitted */\n",
       "  background-color: var(--sklearn-color-fitted-level-0);\n",
       "}\n",
       "\n",
       "#sk-container-id-2 input.sk-toggleable__control:checked~div.sk-toggleable__content {\n",
       "  /* Expand drop-down */\n",
       "  max-height: 200px;\n",
       "  max-width: 100%;\n",
       "  overflow: auto;\n",
       "}\n",
       "\n",
       "#sk-container-id-2 input.sk-toggleable__control:checked~label.sk-toggleable__label-arrow:before {\n",
       "  content: \"▾\";\n",
       "}\n",
       "\n",
       "/* Pipeline/ColumnTransformer-specific style */\n",
       "\n",
       "#sk-container-id-2 div.sk-label input.sk-toggleable__control:checked~label.sk-toggleable__label {\n",
       "  color: var(--sklearn-color-text);\n",
       "  background-color: var(--sklearn-color-unfitted-level-2);\n",
       "}\n",
       "\n",
       "#sk-container-id-2 div.sk-label.fitted input.sk-toggleable__control:checked~label.sk-toggleable__label {\n",
       "  background-color: var(--sklearn-color-fitted-level-2);\n",
       "}\n",
       "\n",
       "/* Estimator-specific style */\n",
       "\n",
       "/* Colorize estimator box */\n",
       "#sk-container-id-2 div.sk-estimator input.sk-toggleable__control:checked~label.sk-toggleable__label {\n",
       "  /* unfitted */\n",
       "  background-color: var(--sklearn-color-unfitted-level-2);\n",
       "}\n",
       "\n",
       "#sk-container-id-2 div.sk-estimator.fitted input.sk-toggleable__control:checked~label.sk-toggleable__label {\n",
       "  /* fitted */\n",
       "  background-color: var(--sklearn-color-fitted-level-2);\n",
       "}\n",
       "\n",
       "#sk-container-id-2 div.sk-label label.sk-toggleable__label,\n",
       "#sk-container-id-2 div.sk-label label {\n",
       "  /* The background is the default theme color */\n",
       "  color: var(--sklearn-color-text-on-default-background);\n",
       "}\n",
       "\n",
       "/* On hover, darken the color of the background */\n",
       "#sk-container-id-2 div.sk-label:hover label.sk-toggleable__label {\n",
       "  color: var(--sklearn-color-text);\n",
       "  background-color: var(--sklearn-color-unfitted-level-2);\n",
       "}\n",
       "\n",
       "/* Label box, darken color on hover, fitted */\n",
       "#sk-container-id-2 div.sk-label.fitted:hover label.sk-toggleable__label.fitted {\n",
       "  color: var(--sklearn-color-text);\n",
       "  background-color: var(--sklearn-color-fitted-level-2);\n",
       "}\n",
       "\n",
       "/* Estimator label */\n",
       "\n",
       "#sk-container-id-2 div.sk-label label {\n",
       "  font-family: monospace;\n",
       "  font-weight: bold;\n",
       "  display: inline-block;\n",
       "  line-height: 1.2em;\n",
       "}\n",
       "\n",
       "#sk-container-id-2 div.sk-label-container {\n",
       "  text-align: center;\n",
       "}\n",
       "\n",
       "/* Estimator-specific */\n",
       "#sk-container-id-2 div.sk-estimator {\n",
       "  font-family: monospace;\n",
       "  border: 1px dotted var(--sklearn-color-border-box);\n",
       "  border-radius: 0.25em;\n",
       "  box-sizing: border-box;\n",
       "  margin-bottom: 0.5em;\n",
       "  /* unfitted */\n",
       "  background-color: var(--sklearn-color-unfitted-level-0);\n",
       "}\n",
       "\n",
       "#sk-container-id-2 div.sk-estimator.fitted {\n",
       "  /* fitted */\n",
       "  background-color: var(--sklearn-color-fitted-level-0);\n",
       "}\n",
       "\n",
       "/* on hover */\n",
       "#sk-container-id-2 div.sk-estimator:hover {\n",
       "  /* unfitted */\n",
       "  background-color: var(--sklearn-color-unfitted-level-2);\n",
       "}\n",
       "\n",
       "#sk-container-id-2 div.sk-estimator.fitted:hover {\n",
       "  /* fitted */\n",
       "  background-color: var(--sklearn-color-fitted-level-2);\n",
       "}\n",
       "\n",
       "/* Specification for estimator info (e.g. \"i\" and \"?\") */\n",
       "\n",
       "/* Common style for \"i\" and \"?\" */\n",
       "\n",
       ".sk-estimator-doc-link,\n",
       "a:link.sk-estimator-doc-link,\n",
       "a:visited.sk-estimator-doc-link {\n",
       "  float: right;\n",
       "  font-size: smaller;\n",
       "  line-height: 1em;\n",
       "  font-family: monospace;\n",
       "  background-color: var(--sklearn-color-background);\n",
       "  border-radius: 1em;\n",
       "  height: 1em;\n",
       "  width: 1em;\n",
       "  text-decoration: none !important;\n",
       "  margin-left: 0.5em;\n",
       "  text-align: center;\n",
       "  /* unfitted */\n",
       "  border: var(--sklearn-color-unfitted-level-1) 1pt solid;\n",
       "  color: var(--sklearn-color-unfitted-level-1);\n",
       "}\n",
       "\n",
       ".sk-estimator-doc-link.fitted,\n",
       "a:link.sk-estimator-doc-link.fitted,\n",
       "a:visited.sk-estimator-doc-link.fitted {\n",
       "  /* fitted */\n",
       "  border: var(--sklearn-color-fitted-level-1) 1pt solid;\n",
       "  color: var(--sklearn-color-fitted-level-1);\n",
       "}\n",
       "\n",
       "/* On hover */\n",
       "div.sk-estimator:hover .sk-estimator-doc-link:hover,\n",
       ".sk-estimator-doc-link:hover,\n",
       "div.sk-label-container:hover .sk-estimator-doc-link:hover,\n",
       ".sk-estimator-doc-link:hover {\n",
       "  /* unfitted */\n",
       "  background-color: var(--sklearn-color-unfitted-level-3);\n",
       "  color: var(--sklearn-color-background);\n",
       "  text-decoration: none;\n",
       "}\n",
       "\n",
       "div.sk-estimator.fitted:hover .sk-estimator-doc-link.fitted:hover,\n",
       ".sk-estimator-doc-link.fitted:hover,\n",
       "div.sk-label-container:hover .sk-estimator-doc-link.fitted:hover,\n",
       ".sk-estimator-doc-link.fitted:hover {\n",
       "  /* fitted */\n",
       "  background-color: var(--sklearn-color-fitted-level-3);\n",
       "  color: var(--sklearn-color-background);\n",
       "  text-decoration: none;\n",
       "}\n",
       "\n",
       "/* Span, style for the box shown on hovering the info icon */\n",
       ".sk-estimator-doc-link span {\n",
       "  display: none;\n",
       "  z-index: 9999;\n",
       "  position: relative;\n",
       "  font-weight: normal;\n",
       "  right: .2ex;\n",
       "  padding: .5ex;\n",
       "  margin: .5ex;\n",
       "  width: min-content;\n",
       "  min-width: 20ex;\n",
       "  max-width: 50ex;\n",
       "  color: var(--sklearn-color-text);\n",
       "  box-shadow: 2pt 2pt 4pt #999;\n",
       "  /* unfitted */\n",
       "  background: var(--sklearn-color-unfitted-level-0);\n",
       "  border: .5pt solid var(--sklearn-color-unfitted-level-3);\n",
       "}\n",
       "\n",
       ".sk-estimator-doc-link.fitted span {\n",
       "  /* fitted */\n",
       "  background: var(--sklearn-color-fitted-level-0);\n",
       "  border: var(--sklearn-color-fitted-level-3);\n",
       "}\n",
       "\n",
       ".sk-estimator-doc-link:hover span {\n",
       "  display: block;\n",
       "}\n",
       "\n",
       "/* \"?\"-specific style due to the `<a>` HTML tag */\n",
       "\n",
       "#sk-container-id-2 a.estimator_doc_link {\n",
       "  float: right;\n",
       "  font-size: 1rem;\n",
       "  line-height: 1em;\n",
       "  font-family: monospace;\n",
       "  background-color: var(--sklearn-color-background);\n",
       "  border-radius: 1rem;\n",
       "  height: 1rem;\n",
       "  width: 1rem;\n",
       "  text-decoration: none;\n",
       "  /* unfitted */\n",
       "  color: var(--sklearn-color-unfitted-level-1);\n",
       "  border: var(--sklearn-color-unfitted-level-1) 1pt solid;\n",
       "}\n",
       "\n",
       "#sk-container-id-2 a.estimator_doc_link.fitted {\n",
       "  /* fitted */\n",
       "  border: var(--sklearn-color-fitted-level-1) 1pt solid;\n",
       "  color: var(--sklearn-color-fitted-level-1);\n",
       "}\n",
       "\n",
       "/* On hover */\n",
       "#sk-container-id-2 a.estimator_doc_link:hover {\n",
       "  /* unfitted */\n",
       "  background-color: var(--sklearn-color-unfitted-level-3);\n",
       "  color: var(--sklearn-color-background);\n",
       "  text-decoration: none;\n",
       "}\n",
       "\n",
       "#sk-container-id-2 a.estimator_doc_link.fitted:hover {\n",
       "  /* fitted */\n",
       "  background-color: var(--sklearn-color-fitted-level-3);\n",
       "}\n",
       "</style><div id=\"sk-container-id-2\" class=\"sk-top-container\"><div class=\"sk-text-repr-fallback\"><pre>RandomForestClassifier(max_depth=2, n_jobs=-1, oob_score=True, random_state=24)</pre><b>In a Jupyter environment, please rerun this cell to show the HTML representation or trust the notebook. <br />On GitHub, the HTML representation is unable to render, please try loading this page with nbviewer.org.</b></div><div class=\"sk-container\" hidden><div class=\"sk-item\"><div class=\"sk-estimator fitted sk-toggleable\"><input class=\"sk-toggleable__control sk-hidden--visually\" id=\"sk-estimator-id-2\" type=\"checkbox\" checked><label for=\"sk-estimator-id-2\" class=\"sk-toggleable__label fitted sk-toggleable__label-arrow\"><div><div>RandomForestClassifier</div></div><div><a class=\"sk-estimator-doc-link fitted\" rel=\"noreferrer\" target=\"_blank\" href=\"https://scikit-learn.org/1.6/modules/generated/sklearn.ensemble.RandomForestClassifier.html\">?<span>Documentation for RandomForestClassifier</span></a><span class=\"sk-estimator-doc-link fitted\">i<span>Fitted</span></span></div></label><div class=\"sk-toggleable__content fitted\"><pre>RandomForestClassifier(max_depth=2, n_jobs=-1, oob_score=True, random_state=24)</pre></div> </div></div></div></div>"
      ],
      "text/plain": [
       "RandomForestClassifier(max_depth=2, n_jobs=-1, oob_score=True, random_state=24)"
      ]
     },
     "execution_count": 37,
     "metadata": {},
     "output_type": "execute_result"
    }
   ],
   "source": [
    "#Fit data\n",
    "classifier_rf.fit(features, train_df.label)"
   ]
  },
  {
   "cell_type": "markdown",
   "metadata": {
    "id": "bRILCMykE7oU"
   },
   "source": [
    "Accuracy"
   ]
  },
  {
   "cell_type": "code",
   "execution_count": 38,
   "metadata": {
    "colab": {
     "base_uri": "https://localhost:8080/"
    },
    "executionInfo": {
     "elapsed": 34,
     "status": "ok",
     "timestamp": 1748755293238,
     "user": {
      "displayName": "Kayvan Afzalnia",
      "userId": "12756300678119011802"
     },
     "user_tz": -210
    },
    "id": "cnKAlw9CIQqE",
    "outputId": "50214583-d79c-46ee-d5a6-4ebdf1fb5b89"
   },
   "outputs": [
    {
     "name": "stdout",
     "output_type": "stream",
     "text": [
      "0.9545454545454546\n"
     ]
    }
   ],
   "source": [
    "pred_rf = classifier_rf.predict(cv.transform(test_df.text))\n",
    "print(accuracy_score(test_df.label, pred_rf))"
   ]
  },
  {
   "cell_type": "markdown",
   "metadata": {
    "id": "_Wz92d70_WDM"
   },
   "source": [
    "# XGBoost"
   ]
  },
  {
   "cell_type": "markdown",
   "metadata": {
    "id": "bb-i2iuqD_VG"
   },
   "source": [
    "XGBoost, which stands for Extreme gradient boosting. As the name suggests, XGBoost is an extreme and advanced version of gradient boosting that it is more flexible (i.e., regularization parameters) and more efficient (i.e., parallel computation)."
   ]
  },
  {
   "cell_type": "code",
   "execution_count": 39,
   "metadata": {
    "colab": {
     "base_uri": "https://localhost:8080/",
     "height": 254
    },
    "executionInfo": {
     "elapsed": 596,
     "status": "ok",
     "timestamp": 1748755309273,
     "user": {
      "displayName": "Kayvan Afzalnia",
      "userId": "12756300678119011802"
     },
     "user_tz": -210
    },
    "id": "sAicMQweADII",
    "outputId": "abb80987-91f1-4814-d645-b05fbfbbd25e"
   },
   "outputs": [
    {
     "data": {
      "text/html": [
       "<style>#sk-container-id-3 {\n",
       "  /* Definition of color scheme common for light and dark mode */\n",
       "  --sklearn-color-text: #000;\n",
       "  --sklearn-color-text-muted: #666;\n",
       "  --sklearn-color-line: gray;\n",
       "  /* Definition of color scheme for unfitted estimators */\n",
       "  --sklearn-color-unfitted-level-0: #fff5e6;\n",
       "  --sklearn-color-unfitted-level-1: #f6e4d2;\n",
       "  --sklearn-color-unfitted-level-2: #ffe0b3;\n",
       "  --sklearn-color-unfitted-level-3: chocolate;\n",
       "  /* Definition of color scheme for fitted estimators */\n",
       "  --sklearn-color-fitted-level-0: #f0f8ff;\n",
       "  --sklearn-color-fitted-level-1: #d4ebff;\n",
       "  --sklearn-color-fitted-level-2: #b3dbfd;\n",
       "  --sklearn-color-fitted-level-3: cornflowerblue;\n",
       "\n",
       "  /* Specific color for light theme */\n",
       "  --sklearn-color-text-on-default-background: var(--sg-text-color, var(--theme-code-foreground, var(--jp-content-font-color1, black)));\n",
       "  --sklearn-color-background: var(--sg-background-color, var(--theme-background, var(--jp-layout-color0, white)));\n",
       "  --sklearn-color-border-box: var(--sg-text-color, var(--theme-code-foreground, var(--jp-content-font-color1, black)));\n",
       "  --sklearn-color-icon: #696969;\n",
       "\n",
       "  @media (prefers-color-scheme: dark) {\n",
       "    /* Redefinition of color scheme for dark theme */\n",
       "    --sklearn-color-text-on-default-background: var(--sg-text-color, var(--theme-code-foreground, var(--jp-content-font-color1, white)));\n",
       "    --sklearn-color-background: var(--sg-background-color, var(--theme-background, var(--jp-layout-color0, #111)));\n",
       "    --sklearn-color-border-box: var(--sg-text-color, var(--theme-code-foreground, var(--jp-content-font-color1, white)));\n",
       "    --sklearn-color-icon: #878787;\n",
       "  }\n",
       "}\n",
       "\n",
       "#sk-container-id-3 {\n",
       "  color: var(--sklearn-color-text);\n",
       "}\n",
       "\n",
       "#sk-container-id-3 pre {\n",
       "  padding: 0;\n",
       "}\n",
       "\n",
       "#sk-container-id-3 input.sk-hidden--visually {\n",
       "  border: 0;\n",
       "  clip: rect(1px 1px 1px 1px);\n",
       "  clip: rect(1px, 1px, 1px, 1px);\n",
       "  height: 1px;\n",
       "  margin: -1px;\n",
       "  overflow: hidden;\n",
       "  padding: 0;\n",
       "  position: absolute;\n",
       "  width: 1px;\n",
       "}\n",
       "\n",
       "#sk-container-id-3 div.sk-dashed-wrapped {\n",
       "  border: 1px dashed var(--sklearn-color-line);\n",
       "  margin: 0 0.4em 0.5em 0.4em;\n",
       "  box-sizing: border-box;\n",
       "  padding-bottom: 0.4em;\n",
       "  background-color: var(--sklearn-color-background);\n",
       "}\n",
       "\n",
       "#sk-container-id-3 div.sk-container {\n",
       "  /* jupyter's `normalize.less` sets `[hidden] { display: none; }`\n",
       "     but bootstrap.min.css set `[hidden] { display: none !important; }`\n",
       "     so we also need the `!important` here to be able to override the\n",
       "     default hidden behavior on the sphinx rendered scikit-learn.org.\n",
       "     See: https://github.com/scikit-learn/scikit-learn/issues/21755 */\n",
       "  display: inline-block !important;\n",
       "  position: relative;\n",
       "}\n",
       "\n",
       "#sk-container-id-3 div.sk-text-repr-fallback {\n",
       "  display: none;\n",
       "}\n",
       "\n",
       "div.sk-parallel-item,\n",
       "div.sk-serial,\n",
       "div.sk-item {\n",
       "  /* draw centered vertical line to link estimators */\n",
       "  background-image: linear-gradient(var(--sklearn-color-text-on-default-background), var(--sklearn-color-text-on-default-background));\n",
       "  background-size: 2px 100%;\n",
       "  background-repeat: no-repeat;\n",
       "  background-position: center center;\n",
       "}\n",
       "\n",
       "/* Parallel-specific style estimator block */\n",
       "\n",
       "#sk-container-id-3 div.sk-parallel-item::after {\n",
       "  content: \"\";\n",
       "  width: 100%;\n",
       "  border-bottom: 2px solid var(--sklearn-color-text-on-default-background);\n",
       "  flex-grow: 1;\n",
       "}\n",
       "\n",
       "#sk-container-id-3 div.sk-parallel {\n",
       "  display: flex;\n",
       "  align-items: stretch;\n",
       "  justify-content: center;\n",
       "  background-color: var(--sklearn-color-background);\n",
       "  position: relative;\n",
       "}\n",
       "\n",
       "#sk-container-id-3 div.sk-parallel-item {\n",
       "  display: flex;\n",
       "  flex-direction: column;\n",
       "}\n",
       "\n",
       "#sk-container-id-3 div.sk-parallel-item:first-child::after {\n",
       "  align-self: flex-end;\n",
       "  width: 50%;\n",
       "}\n",
       "\n",
       "#sk-container-id-3 div.sk-parallel-item:last-child::after {\n",
       "  align-self: flex-start;\n",
       "  width: 50%;\n",
       "}\n",
       "\n",
       "#sk-container-id-3 div.sk-parallel-item:only-child::after {\n",
       "  width: 0;\n",
       "}\n",
       "\n",
       "/* Serial-specific style estimator block */\n",
       "\n",
       "#sk-container-id-3 div.sk-serial {\n",
       "  display: flex;\n",
       "  flex-direction: column;\n",
       "  align-items: center;\n",
       "  background-color: var(--sklearn-color-background);\n",
       "  padding-right: 1em;\n",
       "  padding-left: 1em;\n",
       "}\n",
       "\n",
       "\n",
       "/* Toggleable style: style used for estimator/Pipeline/ColumnTransformer box that is\n",
       "clickable and can be expanded/collapsed.\n",
       "- Pipeline and ColumnTransformer use this feature and define the default style\n",
       "- Estimators will overwrite some part of the style using the `sk-estimator` class\n",
       "*/\n",
       "\n",
       "/* Pipeline and ColumnTransformer style (default) */\n",
       "\n",
       "#sk-container-id-3 div.sk-toggleable {\n",
       "  /* Default theme specific background. It is overwritten whether we have a\n",
       "  specific estimator or a Pipeline/ColumnTransformer */\n",
       "  background-color: var(--sklearn-color-background);\n",
       "}\n",
       "\n",
       "/* Toggleable label */\n",
       "#sk-container-id-3 label.sk-toggleable__label {\n",
       "  cursor: pointer;\n",
       "  display: flex;\n",
       "  width: 100%;\n",
       "  margin-bottom: 0;\n",
       "  padding: 0.5em;\n",
       "  box-sizing: border-box;\n",
       "  text-align: center;\n",
       "  align-items: start;\n",
       "  justify-content: space-between;\n",
       "  gap: 0.5em;\n",
       "}\n",
       "\n",
       "#sk-container-id-3 label.sk-toggleable__label .caption {\n",
       "  font-size: 0.6rem;\n",
       "  font-weight: lighter;\n",
       "  color: var(--sklearn-color-text-muted);\n",
       "}\n",
       "\n",
       "#sk-container-id-3 label.sk-toggleable__label-arrow:before {\n",
       "  /* Arrow on the left of the label */\n",
       "  content: \"▸\";\n",
       "  float: left;\n",
       "  margin-right: 0.25em;\n",
       "  color: var(--sklearn-color-icon);\n",
       "}\n",
       "\n",
       "#sk-container-id-3 label.sk-toggleable__label-arrow:hover:before {\n",
       "  color: var(--sklearn-color-text);\n",
       "}\n",
       "\n",
       "/* Toggleable content - dropdown */\n",
       "\n",
       "#sk-container-id-3 div.sk-toggleable__content {\n",
       "  max-height: 0;\n",
       "  max-width: 0;\n",
       "  overflow: hidden;\n",
       "  text-align: left;\n",
       "  /* unfitted */\n",
       "  background-color: var(--sklearn-color-unfitted-level-0);\n",
       "}\n",
       "\n",
       "#sk-container-id-3 div.sk-toggleable__content.fitted {\n",
       "  /* fitted */\n",
       "  background-color: var(--sklearn-color-fitted-level-0);\n",
       "}\n",
       "\n",
       "#sk-container-id-3 div.sk-toggleable__content pre {\n",
       "  margin: 0.2em;\n",
       "  border-radius: 0.25em;\n",
       "  color: var(--sklearn-color-text);\n",
       "  /* unfitted */\n",
       "  background-color: var(--sklearn-color-unfitted-level-0);\n",
       "}\n",
       "\n",
       "#sk-container-id-3 div.sk-toggleable__content.fitted pre {\n",
       "  /* unfitted */\n",
       "  background-color: var(--sklearn-color-fitted-level-0);\n",
       "}\n",
       "\n",
       "#sk-container-id-3 input.sk-toggleable__control:checked~div.sk-toggleable__content {\n",
       "  /* Expand drop-down */\n",
       "  max-height: 200px;\n",
       "  max-width: 100%;\n",
       "  overflow: auto;\n",
       "}\n",
       "\n",
       "#sk-container-id-3 input.sk-toggleable__control:checked~label.sk-toggleable__label-arrow:before {\n",
       "  content: \"▾\";\n",
       "}\n",
       "\n",
       "/* Pipeline/ColumnTransformer-specific style */\n",
       "\n",
       "#sk-container-id-3 div.sk-label input.sk-toggleable__control:checked~label.sk-toggleable__label {\n",
       "  color: var(--sklearn-color-text);\n",
       "  background-color: var(--sklearn-color-unfitted-level-2);\n",
       "}\n",
       "\n",
       "#sk-container-id-3 div.sk-label.fitted input.sk-toggleable__control:checked~label.sk-toggleable__label {\n",
       "  background-color: var(--sklearn-color-fitted-level-2);\n",
       "}\n",
       "\n",
       "/* Estimator-specific style */\n",
       "\n",
       "/* Colorize estimator box */\n",
       "#sk-container-id-3 div.sk-estimator input.sk-toggleable__control:checked~label.sk-toggleable__label {\n",
       "  /* unfitted */\n",
       "  background-color: var(--sklearn-color-unfitted-level-2);\n",
       "}\n",
       "\n",
       "#sk-container-id-3 div.sk-estimator.fitted input.sk-toggleable__control:checked~label.sk-toggleable__label {\n",
       "  /* fitted */\n",
       "  background-color: var(--sklearn-color-fitted-level-2);\n",
       "}\n",
       "\n",
       "#sk-container-id-3 div.sk-label label.sk-toggleable__label,\n",
       "#sk-container-id-3 div.sk-label label {\n",
       "  /* The background is the default theme color */\n",
       "  color: var(--sklearn-color-text-on-default-background);\n",
       "}\n",
       "\n",
       "/* On hover, darken the color of the background */\n",
       "#sk-container-id-3 div.sk-label:hover label.sk-toggleable__label {\n",
       "  color: var(--sklearn-color-text);\n",
       "  background-color: var(--sklearn-color-unfitted-level-2);\n",
       "}\n",
       "\n",
       "/* Label box, darken color on hover, fitted */\n",
       "#sk-container-id-3 div.sk-label.fitted:hover label.sk-toggleable__label.fitted {\n",
       "  color: var(--sklearn-color-text);\n",
       "  background-color: var(--sklearn-color-fitted-level-2);\n",
       "}\n",
       "\n",
       "/* Estimator label */\n",
       "\n",
       "#sk-container-id-3 div.sk-label label {\n",
       "  font-family: monospace;\n",
       "  font-weight: bold;\n",
       "  display: inline-block;\n",
       "  line-height: 1.2em;\n",
       "}\n",
       "\n",
       "#sk-container-id-3 div.sk-label-container {\n",
       "  text-align: center;\n",
       "}\n",
       "\n",
       "/* Estimator-specific */\n",
       "#sk-container-id-3 div.sk-estimator {\n",
       "  font-family: monospace;\n",
       "  border: 1px dotted var(--sklearn-color-border-box);\n",
       "  border-radius: 0.25em;\n",
       "  box-sizing: border-box;\n",
       "  margin-bottom: 0.5em;\n",
       "  /* unfitted */\n",
       "  background-color: var(--sklearn-color-unfitted-level-0);\n",
       "}\n",
       "\n",
       "#sk-container-id-3 div.sk-estimator.fitted {\n",
       "  /* fitted */\n",
       "  background-color: var(--sklearn-color-fitted-level-0);\n",
       "}\n",
       "\n",
       "/* on hover */\n",
       "#sk-container-id-3 div.sk-estimator:hover {\n",
       "  /* unfitted */\n",
       "  background-color: var(--sklearn-color-unfitted-level-2);\n",
       "}\n",
       "\n",
       "#sk-container-id-3 div.sk-estimator.fitted:hover {\n",
       "  /* fitted */\n",
       "  background-color: var(--sklearn-color-fitted-level-2);\n",
       "}\n",
       "\n",
       "/* Specification for estimator info (e.g. \"i\" and \"?\") */\n",
       "\n",
       "/* Common style for \"i\" and \"?\" */\n",
       "\n",
       ".sk-estimator-doc-link,\n",
       "a:link.sk-estimator-doc-link,\n",
       "a:visited.sk-estimator-doc-link {\n",
       "  float: right;\n",
       "  font-size: smaller;\n",
       "  line-height: 1em;\n",
       "  font-family: monospace;\n",
       "  background-color: var(--sklearn-color-background);\n",
       "  border-radius: 1em;\n",
       "  height: 1em;\n",
       "  width: 1em;\n",
       "  text-decoration: none !important;\n",
       "  margin-left: 0.5em;\n",
       "  text-align: center;\n",
       "  /* unfitted */\n",
       "  border: var(--sklearn-color-unfitted-level-1) 1pt solid;\n",
       "  color: var(--sklearn-color-unfitted-level-1);\n",
       "}\n",
       "\n",
       ".sk-estimator-doc-link.fitted,\n",
       "a:link.sk-estimator-doc-link.fitted,\n",
       "a:visited.sk-estimator-doc-link.fitted {\n",
       "  /* fitted */\n",
       "  border: var(--sklearn-color-fitted-level-1) 1pt solid;\n",
       "  color: var(--sklearn-color-fitted-level-1);\n",
       "}\n",
       "\n",
       "/* On hover */\n",
       "div.sk-estimator:hover .sk-estimator-doc-link:hover,\n",
       ".sk-estimator-doc-link:hover,\n",
       "div.sk-label-container:hover .sk-estimator-doc-link:hover,\n",
       ".sk-estimator-doc-link:hover {\n",
       "  /* unfitted */\n",
       "  background-color: var(--sklearn-color-unfitted-level-3);\n",
       "  color: var(--sklearn-color-background);\n",
       "  text-decoration: none;\n",
       "}\n",
       "\n",
       "div.sk-estimator.fitted:hover .sk-estimator-doc-link.fitted:hover,\n",
       ".sk-estimator-doc-link.fitted:hover,\n",
       "div.sk-label-container:hover .sk-estimator-doc-link.fitted:hover,\n",
       ".sk-estimator-doc-link.fitted:hover {\n",
       "  /* fitted */\n",
       "  background-color: var(--sklearn-color-fitted-level-3);\n",
       "  color: var(--sklearn-color-background);\n",
       "  text-decoration: none;\n",
       "}\n",
       "\n",
       "/* Span, style for the box shown on hovering the info icon */\n",
       ".sk-estimator-doc-link span {\n",
       "  display: none;\n",
       "  z-index: 9999;\n",
       "  position: relative;\n",
       "  font-weight: normal;\n",
       "  right: .2ex;\n",
       "  padding: .5ex;\n",
       "  margin: .5ex;\n",
       "  width: min-content;\n",
       "  min-width: 20ex;\n",
       "  max-width: 50ex;\n",
       "  color: var(--sklearn-color-text);\n",
       "  box-shadow: 2pt 2pt 4pt #999;\n",
       "  /* unfitted */\n",
       "  background: var(--sklearn-color-unfitted-level-0);\n",
       "  border: .5pt solid var(--sklearn-color-unfitted-level-3);\n",
       "}\n",
       "\n",
       ".sk-estimator-doc-link.fitted span {\n",
       "  /* fitted */\n",
       "  background: var(--sklearn-color-fitted-level-0);\n",
       "  border: var(--sklearn-color-fitted-level-3);\n",
       "}\n",
       "\n",
       ".sk-estimator-doc-link:hover span {\n",
       "  display: block;\n",
       "}\n",
       "\n",
       "/* \"?\"-specific style due to the `<a>` HTML tag */\n",
       "\n",
       "#sk-container-id-3 a.estimator_doc_link {\n",
       "  float: right;\n",
       "  font-size: 1rem;\n",
       "  line-height: 1em;\n",
       "  font-family: monospace;\n",
       "  background-color: var(--sklearn-color-background);\n",
       "  border-radius: 1rem;\n",
       "  height: 1rem;\n",
       "  width: 1rem;\n",
       "  text-decoration: none;\n",
       "  /* unfitted */\n",
       "  color: var(--sklearn-color-unfitted-level-1);\n",
       "  border: var(--sklearn-color-unfitted-level-1) 1pt solid;\n",
       "}\n",
       "\n",
       "#sk-container-id-3 a.estimator_doc_link.fitted {\n",
       "  /* fitted */\n",
       "  border: var(--sklearn-color-fitted-level-1) 1pt solid;\n",
       "  color: var(--sklearn-color-fitted-level-1);\n",
       "}\n",
       "\n",
       "/* On hover */\n",
       "#sk-container-id-3 a.estimator_doc_link:hover {\n",
       "  /* unfitted */\n",
       "  background-color: var(--sklearn-color-unfitted-level-3);\n",
       "  color: var(--sklearn-color-background);\n",
       "  text-decoration: none;\n",
       "}\n",
       "\n",
       "#sk-container-id-3 a.estimator_doc_link.fitted:hover {\n",
       "  /* fitted */\n",
       "  background-color: var(--sklearn-color-fitted-level-3);\n",
       "}\n",
       "</style><div id=\"sk-container-id-3\" class=\"sk-top-container\"><div class=\"sk-text-repr-fallback\"><pre>XGBClassifier(base_score=None, booster=None, callbacks=None,\n",
       "              colsample_bylevel=None, colsample_bynode=None,\n",
       "              colsample_bytree=None, device=None, early_stopping_rounds=None,\n",
       "              enable_categorical=False, eval_metric=None, feature_types=None,\n",
       "              gamma=None, grow_policy=None, importance_type=None,\n",
       "              interaction_constraints=None, learning_rate=None, max_bin=None,\n",
       "              max_cat_threshold=None, max_cat_to_onehot=None,\n",
       "              max_delta_step=None, max_depth=None, max_leaves=None,\n",
       "              min_child_weight=None, missing=nan, monotone_constraints=None,\n",
       "              multi_strategy=None, n_estimators=None, n_jobs=None,\n",
       "              num_parallel_tree=None, random_state=None, ...)</pre><b>In a Jupyter environment, please rerun this cell to show the HTML representation or trust the notebook. <br />On GitHub, the HTML representation is unable to render, please try loading this page with nbviewer.org.</b></div><div class=\"sk-container\" hidden><div class=\"sk-item\"><div class=\"sk-estimator fitted sk-toggleable\"><input class=\"sk-toggleable__control sk-hidden--visually\" id=\"sk-estimator-id-3\" type=\"checkbox\" checked><label for=\"sk-estimator-id-3\" class=\"sk-toggleable__label fitted sk-toggleable__label-arrow\"><div><div>XGBClassifier</div></div><div><span class=\"sk-estimator-doc-link fitted\">i<span>Fitted</span></span></div></label><div class=\"sk-toggleable__content fitted\"><pre>XGBClassifier(base_score=None, booster=None, callbacks=None,\n",
       "              colsample_bylevel=None, colsample_bynode=None,\n",
       "              colsample_bytree=None, device=None, early_stopping_rounds=None,\n",
       "              enable_categorical=False, eval_metric=None, feature_types=None,\n",
       "              gamma=None, grow_policy=None, importance_type=None,\n",
       "              interaction_constraints=None, learning_rate=None, max_bin=None,\n",
       "              max_cat_threshold=None, max_cat_to_onehot=None,\n",
       "              max_delta_step=None, max_depth=None, max_leaves=None,\n",
       "              min_child_weight=None, missing=nan, monotone_constraints=None,\n",
       "              multi_strategy=None, n_estimators=None, n_jobs=None,\n",
       "              num_parallel_tree=None, random_state=None, ...)</pre></div> </div></div></div></div>"
      ],
      "text/plain": [
       "XGBClassifier(base_score=None, booster=None, callbacks=None,\n",
       "              colsample_bylevel=None, colsample_bynode=None,\n",
       "              colsample_bytree=None, device=None, early_stopping_rounds=None,\n",
       "              enable_categorical=False, eval_metric=None, feature_types=None,\n",
       "              gamma=None, grow_policy=None, importance_type=None,\n",
       "              interaction_constraints=None, learning_rate=None, max_bin=None,\n",
       "              max_cat_threshold=None, max_cat_to_onehot=None,\n",
       "              max_delta_step=None, max_depth=None, max_leaves=None,\n",
       "              min_child_weight=None, missing=nan, monotone_constraints=None,\n",
       "              multi_strategy=None, n_estimators=None, n_jobs=None,\n",
       "              num_parallel_tree=None, random_state=None, ...)"
      ]
     },
     "execution_count": 39,
     "metadata": {},
     "output_type": "execute_result"
    }
   ],
   "source": [
    "# fit model no training data\n",
    "model = XGBClassifier()\n",
    "model.fit(features, train_df.label)"
   ]
  },
  {
   "cell_type": "markdown",
   "metadata": {
    "id": "U-ogrie-FWwS"
   },
   "source": [
    "Accuracy"
   ]
  },
  {
   "cell_type": "code",
   "execution_count": 40,
   "metadata": {
    "colab": {
     "base_uri": "https://localhost:8080/"
    },
    "executionInfo": {
     "elapsed": 18,
     "status": "ok",
     "timestamp": 1748755331196,
     "user": {
      "displayName": "Kayvan Afzalnia",
      "userId": "12756300678119011802"
     },
     "user_tz": -210
    },
    "id": "-vaEJQxvJQ-V",
    "outputId": "622b7455-6dc9-4fce-faa3-1f75ec34d2d8"
   },
   "outputs": [
    {
     "name": "stdout",
     "output_type": "stream",
     "text": [
      "0.9772727272727273\n"
     ]
    }
   ],
   "source": [
    "pred_XGB = model.predict(cv.transform(test_df.text))\n",
    "print(accuracy_score(test_df.label, pred_XGB))"
   ]
  },
  {
   "cell_type": "markdown",
   "metadata": {
    "id": "DYEGNZVQhVw5"
   },
   "source": [
    "# Evaluating the models"
   ]
  },
  {
   "cell_type": "markdown",
   "metadata": {
    "id": "uu_8TiSYhx9O"
   },
   "source": [
    "Finally, we use the Sklearn classification report and the confusion matrix to evaluate the models. First, we should predict the classes of the test data; then, by comparing the actual values with the predicted values, we can measure the performance of the model."
   ]
  },
  {
   "cell_type": "markdown",
   "metadata": {
    "id": "XHAtUsNjzdEt"
   },
   "source": [
    "**Let's check the results of Logistic_regression model:**"
   ]
  },
  {
   "cell_type": "code",
   "execution_count": 42,
   "metadata": {
    "colab": {
     "base_uri": "https://localhost:8080/",
     "height": 817
    },
    "executionInfo": {
     "elapsed": 6404,
     "status": "ok",
     "timestamp": 1748755461015,
     "user": {
      "displayName": "Kayvan Afzalnia",
      "userId": "12756300678119011802"
     },
     "user_tz": -210
    },
    "id": "krkWmFm4yNGr",
    "outputId": "68dd7652-8617-4eb7-d6c0-982e18085cee"
   },
   "outputs": [
    {
     "name": "stdout",
     "output_type": "stream",
     "text": [
      "              precision    recall  f1-score   support\n",
      "\n",
      "           0       1.00      1.00      1.00        22\n",
      "           1       1.00      1.00      1.00        22\n",
      "\n",
      "    accuracy                           1.00        44\n",
      "   macro avg       1.00      1.00      1.00        44\n",
      "weighted avg       1.00      1.00      1.00        44\n",
      "\n"
     ]
    },
    {
     "data": {
      "image/png": "[encoded data removed]",
      "text/plain": [
       "<Figure size 800x800 with 2 Axes>"
      ]
     },
     "metadata": {},
     "output_type": "display_data"
    }
   ],
   "source": [
    "print(classification_report(test_df.label, pred))\n",
    "fig, ax = plt.subplots(figsize=(8,8))\n",
    "ConfusionMatrixDisplay.from_predictions(test_df.label, pred, ax=ax)\n",
    "plt.savefig('Plots/Logistic_Regression_ConfusionMatrixDisplay.png')"
   ]
  },
  {
   "cell_type": "markdown",
   "metadata": {
    "id": "gAEr_oMKIyb_"
   },
   "source": [
    "**Let's check the results of Random Forest model:**"
   ]
  },
  {
   "cell_type": "code",
   "execution_count": 43,
   "metadata": {
    "colab": {
     "base_uri": "https://localhost:8080/",
     "height": 817
    },
    "executionInfo": {
     "elapsed": 640,
     "status": "ok",
     "timestamp": 1748755468693,
     "user": {
      "displayName": "Kayvan Afzalnia",
      "userId": "12756300678119011802"
     },
     "user_tz": -210
    },
    "id": "TosOV3BtGud5",
    "outputId": "7413ee72-50f0-4fed-a334-5bade02e6106"
   },
   "outputs": [
    {
     "name": "stdout",
     "output_type": "stream",
     "text": [
      "              precision    recall  f1-score   support\n",
      "\n",
      "           0       0.92      1.00      0.96        22\n",
      "           1       1.00      0.91      0.95        22\n",
      "\n",
      "    accuracy                           0.95        44\n",
      "   macro avg       0.96      0.95      0.95        44\n",
      "weighted avg       0.96      0.95      0.95        44\n",
      "\n"
     ]
    },
    {
     "data": {
      "image/png": "[encoded data removed]",
      "text/plain": [
       "<Figure size 800x800 with 2 Axes>"
      ]
     },
     "metadata": {},
     "output_type": "display_data"
    }
   ],
   "source": [
    "print(classification_report(test_df.label, pred_rf))\n",
    "fig, ax = plt.subplots(figsize=(8,8))\n",
    "ConfusionMatrixDisplay.from_predictions(test_df.label, pred_rf, ax=ax)\n",
    "plt.savefig('Plots/Random_Forest_ConfusionMatrixDisplay.png')"
   ]
  },
  {
   "cell_type": "markdown",
   "metadata": {
    "id": "7tTSFaGQJBpm"
   },
   "source": [
    "**Let's check the results of XGBoost model:**"
   ]
  },
  {
   "cell_type": "code",
   "execution_count": 44,
   "metadata": {
    "colab": {
     "base_uri": "https://localhost:8080/",
     "height": 817
    },
    "executionInfo": {
     "elapsed": 506,
     "status": "ok",
     "timestamp": 1748755477773,
     "user": {
      "displayName": "Kayvan Afzalnia",
      "userId": "12756300678119011802"
     },
     "user_tz": -210
    },
    "id": "j3TW4U0SJBQd",
    "outputId": "0863b20d-cd0d-40f7-cf19-85373af31a98"
   },
   "outputs": [
    {
     "name": "stdout",
     "output_type": "stream",
     "text": [
      "              precision    recall  f1-score   support\n",
      "\n",
      "           0       0.96      1.00      0.98        22\n",
      "           1       1.00      0.95      0.98        22\n",
      "\n",
      "    accuracy                           0.98        44\n",
      "   macro avg       0.98      0.98      0.98        44\n",
      "weighted avg       0.98      0.98      0.98        44\n",
      "\n"
     ]
    },
    {
     "data": {
      "image/png": "[encoded data removed]",
      "text/plain": [
       "<Figure size 800x800 with 2 Axes>"
      ]
     },
     "metadata": {},
     "output_type": "display_data"
    }
   ],
   "source": [
    "print(classification_report(test_df.label, pred_XGB))\n",
    "fig, ax = plt.subplots(figsize=(8,8))\n",
    "ConfusionMatrixDisplay.from_predictions(test_df.label, pred_XGB, ax=ax)\n",
    "plt.savefig('Plots/Random_Forest_ConfusionMatrixDisplay.png')"
   ]
  },
  {
   "cell_type": "markdown",
   "metadata": {
    "id": "w_eXJ55-s_JX"
   },
   "source": [
    "#Inference(save&use)"
   ]
  },
  {
   "cell_type": "markdown",
   "metadata": {
    "id": "4W6-dRDz20n6"
   },
   "source": [
    "**We use three models in this project (Logistic Regression, Random Forest, XGBoost). As we have seen, the best accuracy of the models is logistic regression with much better training time, but model gave us 100% accuracy which seems overfitted so by analyzing model the best model would be random forest based on the classification report**\n",
    "\n",
    "**So we use random forest and save our model, load it and use it.**"
   ]
  },
  {
   "cell_type": "code",
   "execution_count": 49,
   "metadata": {
    "colab": {
     "base_uri": "https://localhost:8080/"
    },
    "executionInfo": {
     "elapsed": 92,
     "status": "ok",
     "timestamp": 1748755721933,
     "user": {
      "displayName": "Kayvan Afzalnia",
      "userId": "12756300678119011802"
     },
     "user_tz": -210
    },
    "id": "ShuBzcaB53K-",
    "outputId": "316ff345-1704-4236-88cf-9e7a39cbae0a"
   },
   "outputs": [
    {
     "data": {
      "text/plain": [
       "['/content/drive/MyDrive/Tasnim_Classification/final_model.sav']"
      ]
     },
     "execution_count": 49,
     "metadata": {},
     "output_type": "execute_result"
    }
   ],
   "source": [
    "# save the model to disk\n",
    "filename = f'/content/drive/MyDrive/Tasnim_Classification/final_model.sav'\n",
    "joblib.dump(model, filename)"
   ]
  },
  {
   "cell_type": "code",
   "execution_count": 51,
   "metadata": {
    "colab": {
     "base_uri": "https://localhost:8080/"
    },
    "executionInfo": {
     "elapsed": 89,
     "status": "ok",
     "timestamp": 1748755739706,
     "user": {
      "displayName": "Kayvan Afzalnia",
      "userId": "12756300678119011802"
     },
     "user_tz": -210
    },
    "id": "EnjnbQyU55cB",
    "outputId": "1c0afc44-d885-46cf-df3f-551265419e89"
   },
   "outputs": [
    {
     "name": "stdout",
     "output_type": "stream",
     "text": [
      "sport news\n"
     ]
    }
   ],
   "source": [
    "# load the model from disk\n",
    "loaded_model = joblib.load(filename)\n",
    "# test model\n",
    "input_values = [\"به گزارش خبرنگار ورزشی خبرگزاری فارس، ابوالفضل حسن‌زاده، رئیس کمیته انضباطی فدراسیون فوتبال با ارسال نامه‌ای به منصور قنبرزاده، نایب رئیس دوم و رئیس کارگروه ناظر بر قراردادهای این فدراسیون درخواست کرد کلیه قراردادهای ثبت شده از سوی باشگاه‌های حاضر در لیگ برتر به قید فوریت در این کارگروه تحت بررسی قرار گرفته است.\"]\n",
    "\n",
    "prediction = loaded_model.predict(cv.transform(input_values)) #adding values for prediction\n",
    "prediction = prediction[0]\n",
    "if prediction == 0:\n",
    "  print(\"political news\")\n",
    "else:\n",
    "  print(\"sport news\")"
   ]
  },
  {
   "cell_type": "code",
   "execution_count": 52,
   "metadata": {
    "colab": {
     "base_uri": "https://localhost:8080/"
    },
    "executionInfo": {
     "elapsed": 33,
     "status": "ok",
     "timestamp": 1748755830625,
     "user": {
      "displayName": "Kayvan Afzalnia",
      "userId": "12756300678119011802"
     },
     "user_tz": -210
    },
    "id": "wNQcNN0SLAtC",
    "outputId": "776fbaa5-0d40-4826-83a9-cee1266df9bc"
   },
   "outputs": [
    {
     "name": "stdout",
     "output_type": "stream",
     "text": [
      "political news\n"
     ]
    }
   ],
   "source": [
    "# load the model from disk\n",
    "loaded_model = joblib.load(filename)\n",
    "# test model\n",
    "input_values = [\"\"\"\n",
    "به گزارش گروه سیاسی خبرگزاری تسنیم، نشست مشترک سران قوای سه‌گانه ظهر امروز (شنبه) با حضور رئیس‌جمهور، رئیس مجلس شورای اسلامی و رئیس قوه قضائیه در نهاد ریاست‌جمهوری برگزار شد.\n",
    "\n",
    "در این جلسه که به میزبانی رئیس‌جمهور انجام شد، مهم‌ترین موضوعات و تحولات جاری کشور مورد بررسی و تبادل نظر قرار گرفت.\n",
    "\n",
    "جزییات بیشتری از محورهای مورد بحث این نشست تاکنون منتشر نشده است.\n",
    "\"\"\"]\n",
    "\n",
    "prediction = loaded_model.predict(cv.transform(input_values)) #adding values for prediction\n",
    "prediction = prediction[0]\n",
    "if prediction == 0:\n",
    "  print(\"political news\")\n",
    "else:\n",
    "  print(\"sport news\")"
   ]
  },
  {
   "cell_type": "code",
   "execution_count": null,
   "metadata": {
    "id": "OIXvxMoQ-FX-"
   },
   "outputs": [],
   "source": []
  }
 ],
 "metadata": {
  "colab": {
   "authorship_tag": "ABX9TyPFcLrROXrQI/b/XIhm79Yt",
   "provenance": []
  },
  "kernelspec": {
   "display_name": "Python 3",
   "name": "python3"
  },
  "language_info": {
   "name": "python"
  }
 },
 "nbformat": 4,
 "nbformat_minor": 0
}
